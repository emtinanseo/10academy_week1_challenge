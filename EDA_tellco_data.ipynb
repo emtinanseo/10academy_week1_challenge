{
 "cells": [
  {
   "cell_type": "code",
   "execution_count": 1,
   "id": "dfb294c6",
   "metadata": {},
   "outputs": [],
   "source": [
    "import pandas as pd\n",
    "import numpy as np"
   ]
  },
  {
   "cell_type": "markdown",
   "id": "099db2bc",
   "metadata": {},
   "source": [
    "Import data as a dataframe"
   ]
  },
  {
   "cell_type": "code",
   "execution_count": 2,
   "id": "758e46d8",
   "metadata": {},
   "outputs": [],
   "source": [
    "df = pd.read_csv(\"data/Week1_challenge_data_source.csv\")"
   ]
  },
  {
   "cell_type": "markdown",
   "id": "127ac3a8",
   "metadata": {},
   "source": [
    "Before Cleaning the dataset, we explore what has been stored in it. The column names, how many data points, number of colum etc. All these questions needs to be answered"
   ]
  },
  {
   "cell_type": "code",
   "execution_count": 5,
   "id": "6b72b292",
   "metadata": {},
   "outputs": [
    {
     "data": {
      "text/plain": [
       "(150001, 55)"
      ]
     },
     "execution_count": 5,
     "metadata": {},
     "output_type": "execute_result"
    }
   ],
   "source": [
    "df.shape"
   ]
  },
  {
   "cell_type": "markdown",
   "id": "952a9808",
   "metadata": {},
   "source": [
    "The data has 150001 rows and 55 columns"
   ]
  },
  {
   "cell_type": "code",
   "execution_count": 4,
   "id": "053a88b5",
   "metadata": {
    "collapsed": true
   },
   "outputs": [
    {
     "name": "stdout",
     "output_type": "stream",
     "text": [
      "<class 'pandas.core.frame.DataFrame'>\n",
      "RangeIndex: 150001 entries, 0 to 150000\n",
      "Data columns (total 55 columns):\n",
      " #   Column                                    Non-Null Count   Dtype  \n",
      "---  ------                                    --------------   -----  \n",
      " 0   Bearer Id                                 149010 non-null  float64\n",
      " 1   Start                                     150000 non-null  object \n",
      " 2   Start ms                                  150000 non-null  float64\n",
      " 3   End                                       150000 non-null  object \n",
      " 4   End ms                                    150000 non-null  float64\n",
      " 5   Dur. (ms)                                 150000 non-null  float64\n",
      " 6   IMSI                                      149431 non-null  float64\n",
      " 7   MSISDN/Number                             148935 non-null  float64\n",
      " 8   IMEI                                      149429 non-null  float64\n",
      " 9   Last Location Name                        148848 non-null  object \n",
      " 10  Avg RTT DL (ms)                           122172 non-null  float64\n",
      " 11  Avg RTT UL (ms)                           122189 non-null  float64\n",
      " 12  Avg Bearer TP DL (kbps)                   150000 non-null  float64\n",
      " 13  Avg Bearer TP UL (kbps)                   150000 non-null  float64\n",
      " 14  TCP DL Retrans. Vol (Bytes)               61855 non-null   float64\n",
      " 15  TCP UL Retrans. Vol (Bytes)               53352 non-null   float64\n",
      " 16  DL TP < 50 Kbps (%)                       149247 non-null  float64\n",
      " 17  50 Kbps < DL TP < 250 Kbps (%)            149247 non-null  float64\n",
      " 18  250 Kbps < DL TP < 1 Mbps (%)             149247 non-null  float64\n",
      " 19  DL TP > 1 Mbps (%)                        149247 non-null  float64\n",
      " 20  UL TP < 10 Kbps (%)                       149209 non-null  float64\n",
      " 21  10 Kbps < UL TP < 50 Kbps (%)             149209 non-null  float64\n",
      " 22  50 Kbps < UL TP < 300 Kbps (%)            149209 non-null  float64\n",
      " 23  UL TP > 300 Kbps (%)                      149209 non-null  float64\n",
      " 24  HTTP DL (Bytes)                           68527 non-null   float64\n",
      " 25  HTTP UL (Bytes)                           68191 non-null   float64\n",
      " 26  Activity Duration DL (ms)                 150000 non-null  float64\n",
      " 27  Activity Duration UL (ms)                 150000 non-null  float64\n",
      " 28  Dur. (ms).1                               150000 non-null  float64\n",
      " 29  Handset Manufacturer                      149429 non-null  object \n",
      " 30  Handset Type                              149429 non-null  object \n",
      " 31  Nb of sec with 125000B < Vol DL           52463 non-null   float64\n",
      " 32  Nb of sec with 1250B < Vol UL < 6250B     57107 non-null   float64\n",
      " 33  Nb of sec with 31250B < Vol DL < 125000B  56415 non-null   float64\n",
      " 34  Nb of sec with 37500B < Vol UL            19747 non-null   float64\n",
      " 35  Nb of sec with 6250B < Vol DL < 31250B    61684 non-null   float64\n",
      " 36  Nb of sec with 6250B < Vol UL < 37500B    38158 non-null   float64\n",
      " 37  Nb of sec with Vol DL < 6250B             149246 non-null  float64\n",
      " 38  Nb of sec with Vol UL < 1250B             149208 non-null  float64\n",
      " 39  Social Media DL (Bytes)                   150001 non-null  float64\n",
      " 40  Social Media UL (Bytes)                   150001 non-null  float64\n",
      " 41  Google DL (Bytes)                         150001 non-null  float64\n",
      " 42  Google UL (Bytes)                         150001 non-null  float64\n",
      " 43  Email DL (Bytes)                          150001 non-null  float64\n",
      " 44  Email UL (Bytes)                          150001 non-null  float64\n",
      " 45  Youtube DL (Bytes)                        150001 non-null  float64\n",
      " 46  Youtube UL (Bytes)                        150001 non-null  float64\n",
      " 47  Netflix DL (Bytes)                        150001 non-null  float64\n",
      " 48  Netflix UL (Bytes)                        150001 non-null  float64\n",
      " 49  Gaming DL (Bytes)                         150001 non-null  float64\n",
      " 50  Gaming UL (Bytes)                         150001 non-null  float64\n",
      " 51  Other DL (Bytes)                          150001 non-null  float64\n",
      " 52  Other UL (Bytes)                          150001 non-null  float64\n",
      " 53  Total UL (Bytes)                          150000 non-null  float64\n",
      " 54  Total DL (Bytes)                          150000 non-null  float64\n",
      "dtypes: float64(50), object(5)\n",
      "memory usage: 62.9+ MB\n"
     ]
    }
   ],
   "source": [
    "df.info()"
   ]
  },
  {
   "cell_type": "markdown",
   "id": "65902de8",
   "metadata": {},
   "source": [
    "How much data is missing?"
   ]
  },
  {
   "cell_type": "code",
   "execution_count": 10,
   "id": "c97a50c4",
   "metadata": {
    "scrolled": true
   },
   "outputs": [
    {
     "data": {
      "text/plain": [
       "150001"
      ]
     },
     "execution_count": 10,
     "metadata": {},
     "output_type": "execute_result"
    }
   ],
   "source": [
    "df.shape[0]"
   ]
  },
  {
   "cell_type": "code",
   "execution_count": 20,
   "id": "f9213257",
   "metadata": {
    "collapsed": true
   },
   "outputs": [
    {
     "name": "stdout",
     "output_type": "stream",
     "text": [
      "<class 'pandas.core.frame.DataFrame'>\n",
      "RangeIndex: 150001 entries, 0 to 150000\n",
      "Data columns (total 55 columns):\n",
      " #   Column                                    Non-Null Count   Dtype  \n",
      "---  ------                                    --------------   -----  \n",
      " 0   Bearer Id                                 149010 non-null  float64\n",
      " 1   Start                                     150000 non-null  object \n",
      " 2   Start ms                                  150000 non-null  float64\n",
      " 3   End                                       150000 non-null  object \n",
      " 4   End ms                                    150000 non-null  float64\n",
      " 5   Dur. (ms)                                 150000 non-null  float64\n",
      " 6   IMSI                                      149431 non-null  float64\n",
      " 7   MSISDN/Number                             148935 non-null  float64\n",
      " 8   IMEI                                      149429 non-null  float64\n",
      " 9   Last Location Name                        148848 non-null  object \n",
      " 10  Avg RTT DL (ms)                           122172 non-null  float64\n",
      " 11  Avg RTT UL (ms)                           122189 non-null  float64\n",
      " 12  Avg Bearer TP DL (kbps)                   150000 non-null  float64\n",
      " 13  Avg Bearer TP UL (kbps)                   150000 non-null  float64\n",
      " 14  TCP DL Retrans. Vol (Bytes)               61855 non-null   float64\n",
      " 15  TCP UL Retrans. Vol (Bytes)               53352 non-null   float64\n",
      " 16  DL TP < 50 Kbps (%)                       149247 non-null  float64\n",
      " 17  50 Kbps < DL TP < 250 Kbps (%)            149247 non-null  float64\n",
      " 18  250 Kbps < DL TP < 1 Mbps (%)             149247 non-null  float64\n",
      " 19  DL TP > 1 Mbps (%)                        149247 non-null  float64\n",
      " 20  UL TP < 10 Kbps (%)                       149209 non-null  float64\n",
      " 21  10 Kbps < UL TP < 50 Kbps (%)             149209 non-null  float64\n",
      " 22  50 Kbps < UL TP < 300 Kbps (%)            149209 non-null  float64\n",
      " 23  UL TP > 300 Kbps (%)                      149209 non-null  float64\n",
      " 24  HTTP DL (Bytes)                           68527 non-null   float64\n",
      " 25  HTTP UL (Bytes)                           68191 non-null   float64\n",
      " 26  Activity Duration DL (ms)                 150000 non-null  float64\n",
      " 27  Activity Duration UL (ms)                 150000 non-null  float64\n",
      " 28  Dur. (ms).1                               150000 non-null  float64\n",
      " 29  Handset Manufacturer                      149429 non-null  object \n",
      " 30  Handset Type                              149429 non-null  object \n",
      " 31  Nb of sec with 125000B < Vol DL           52463 non-null   float64\n",
      " 32  Nb of sec with 1250B < Vol UL < 6250B     57107 non-null   float64\n",
      " 33  Nb of sec with 31250B < Vol DL < 125000B  56415 non-null   float64\n",
      " 34  Nb of sec with 37500B < Vol UL            19747 non-null   float64\n",
      " 35  Nb of sec with 6250B < Vol DL < 31250B    61684 non-null   float64\n",
      " 36  Nb of sec with 6250B < Vol UL < 37500B    38158 non-null   float64\n",
      " 37  Nb of sec with Vol DL < 6250B             149246 non-null  float64\n",
      " 38  Nb of sec with Vol UL < 1250B             149208 non-null  float64\n",
      " 39  Social Media DL (Bytes)                   150001 non-null  float64\n",
      " 40  Social Media UL (Bytes)                   150001 non-null  float64\n",
      " 41  Google DL (Bytes)                         150001 non-null  float64\n",
      " 42  Google UL (Bytes)                         150001 non-null  float64\n",
      " 43  Email DL (Bytes)                          150001 non-null  float64\n",
      " 44  Email UL (Bytes)                          150001 non-null  float64\n",
      " 45  Youtube DL (Bytes)                        150001 non-null  float64\n",
      " 46  Youtube UL (Bytes)                        150001 non-null  float64\n",
      " 47  Netflix DL (Bytes)                        150001 non-null  float64\n",
      " 48  Netflix UL (Bytes)                        150001 non-null  float64\n",
      " 49  Gaming DL (Bytes)                         150001 non-null  float64\n",
      " 50  Gaming UL (Bytes)                         150001 non-null  float64\n",
      " 51  Other DL (Bytes)                          150001 non-null  float64\n",
      " 52  Other UL (Bytes)                          150001 non-null  float64\n",
      " 53  Total UL (Bytes)                          150000 non-null  float64\n",
      " 54  Total DL (Bytes)                          150000 non-null  float64\n",
      "dtypes: float64(50), object(5)\n",
      "memory usage: 62.9+ MB\n"
     ]
    }
   ],
   "source": [
    "df.info()"
   ]
  },
  {
   "cell_type": "code",
   "execution_count": 41,
   "id": "91926de8",
   "metadata": {},
   "outputs": [],
   "source": [
    "def percent_missing(df: pd.DataFrame, cols=None):\n",
    "    full_num_enteries = df.shape[0]\n",
    "    \n",
    "    if not cols:\n",
    "        cols = df.columns.to_list()\n",
    "        \n",
    "    for col in cols:\n",
    "        num_missing = df[col].isnull().sum()\n",
    "        perc_missing = num_missing/full_num_enteries*100\n",
    "        \n",
    "        print(\"{}  missing values are ------------- {:.2f}% \".format(col, perc_missing))"
   ]
  },
  {
   "cell_type": "code",
   "execution_count": 40,
   "id": "a5b6c251",
   "metadata": {},
   "outputs": [
    {
     "name": "stdout",
     "output_type": "stream",
     "text": [
      "Bearer Id  missing values are ------------- 0.66% \n",
      "Start  missing values are ------------- 0.00% \n",
      "Start ms  missing values are ------------- 0.00% \n",
      "End  missing values are ------------- 0.00% \n",
      "End ms  missing values are ------------- 0.00% \n",
      "Dur. (ms)  missing values are ------------- 0.00% \n",
      "IMSI  missing values are ------------- 0.38% \n",
      "MSISDN/Number  missing values are ------------- 0.71% \n",
      "IMEI  missing values are ------------- 0.38% \n",
      "Last Location Name  missing values are ------------- 0.77% \n",
      "Avg RTT DL (ms)  missing values are ------------- 18.55% \n",
      "Avg RTT UL (ms)  missing values are ------------- 18.54% \n",
      "Avg Bearer TP DL (kbps)  missing values are ------------- 0.00% \n",
      "Avg Bearer TP UL (kbps)  missing values are ------------- 0.00% \n",
      "TCP DL Retrans. Vol (Bytes)  missing values are ------------- 58.76% \n",
      "TCP UL Retrans. Vol (Bytes)  missing values are ------------- 64.43% \n",
      "DL TP < 50 Kbps (%)  missing values are ------------- 0.50% \n",
      "50 Kbps < DL TP < 250 Kbps (%)  missing values are ------------- 0.50% \n",
      "250 Kbps < DL TP < 1 Mbps (%)  missing values are ------------- 0.50% \n",
      "DL TP > 1 Mbps (%)  missing values are ------------- 0.50% \n",
      "UL TP < 10 Kbps (%)  missing values are ------------- 0.53% \n",
      "10 Kbps < UL TP < 50 Kbps (%)  missing values are ------------- 0.53% \n",
      "50 Kbps < UL TP < 300 Kbps (%)  missing values are ------------- 0.53% \n",
      "UL TP > 300 Kbps (%)  missing values are ------------- 0.53% \n",
      "HTTP DL (Bytes)  missing values are ------------- 54.32% \n",
      "HTTP UL (Bytes)  missing values are ------------- 54.54% \n",
      "Activity Duration DL (ms)  missing values are ------------- 0.00% \n",
      "Activity Duration UL (ms)  missing values are ------------- 0.00% \n",
      "Dur. (ms).1  missing values are ------------- 0.00% \n",
      "Handset Manufacturer  missing values are ------------- 0.38% \n",
      "Handset Type  missing values are ------------- 0.38% \n",
      "Nb of sec with 125000B < Vol DL  missing values are ------------- 65.02% \n",
      "Nb of sec with 1250B < Vol UL < 6250B  missing values are ------------- 61.93% \n",
      "Nb of sec with 31250B < Vol DL < 125000B  missing values are ------------- 62.39% \n",
      "Nb of sec with 37500B < Vol UL  missing values are ------------- 86.84% \n",
      "Nb of sec with 6250B < Vol DL < 31250B  missing values are ------------- 58.88% \n",
      "Nb of sec with 6250B < Vol UL < 37500B  missing values are ------------- 74.56% \n",
      "Nb of sec with Vol DL < 6250B  missing values are ------------- 0.50% \n",
      "Nb of sec with Vol UL < 1250B  missing values are ------------- 0.53% \n",
      "Social Media DL (Bytes)  missing values are ------------- 0.00% \n",
      "Social Media UL (Bytes)  missing values are ------------- 0.00% \n",
      "Google DL (Bytes)  missing values are ------------- 0.00% \n",
      "Google UL (Bytes)  missing values are ------------- 0.00% \n",
      "Email DL (Bytes)  missing values are ------------- 0.00% \n",
      "Email UL (Bytes)  missing values are ------------- 0.00% \n",
      "Youtube DL (Bytes)  missing values are ------------- 0.00% \n",
      "Youtube UL (Bytes)  missing values are ------------- 0.00% \n",
      "Netflix DL (Bytes)  missing values are ------------- 0.00% \n",
      "Netflix UL (Bytes)  missing values are ------------- 0.00% \n",
      "Gaming DL (Bytes)  missing values are ------------- 0.00% \n",
      "Gaming UL (Bytes)  missing values are ------------- 0.00% \n",
      "Other DL (Bytes)  missing values are ------------- 0.00% \n",
      "Other UL (Bytes)  missing values are ------------- 0.00% \n",
      "Total UL (Bytes)  missing values are ------------- 0.00% \n",
      "Total DL (Bytes)  missing values are ------------- 0.00% \n"
     ]
    }
   ],
   "source": [
    "percent_missing(df)"
   ]
  },
  {
   "cell_type": "markdown",
   "id": "96250bec",
   "metadata": {},
   "source": [
    "We see that some columns are missing a lot of values. Handeling "
   ]
  },
  {
   "cell_type": "code",
   "execution_count": null,
   "id": "ef13b890",
   "metadata": {},
   "outputs": [],
   "source": []
  }
 ],
 "metadata": {
  "kernelspec": {
   "display_name": "geo_env",
   "language": "python",
   "name": "geo_env"
  },
  "language_info": {
   "codemirror_mode": {
    "name": "ipython",
    "version": 3
   },
   "file_extension": ".py",
   "mimetype": "text/x-python",
   "name": "python",
   "nbconvert_exporter": "python",
   "pygments_lexer": "ipython3",
   "version": "3.9.6"
  }
 },
 "nbformat": 4,
 "nbformat_minor": 5
}
