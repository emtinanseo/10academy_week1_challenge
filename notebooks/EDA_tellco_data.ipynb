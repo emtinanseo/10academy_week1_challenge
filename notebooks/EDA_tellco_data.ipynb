{
 "cells": [
  {
   "cell_type": "code",
   "execution_count": 1,
   "metadata": {},
   "outputs": [],
   "source": [
    "import pandas as pd\n",
    "import numpy as np\n",
    "import seaborn as sns\n",
    "import matplotlib.pyplot as plt"
   ]
  },
  {
   "cell_type": "code",
   "execution_count": 2,
   "metadata": {},
   "outputs": [],
   "source": [
    "import sys, os\n",
    "\n",
    "#sys.path.append(os.path.abspath(os.path.join(\"../..\")))\n",
    "sys.path.append(os.path.abspath(os.path.join(\"./scripts\")))"
   ]
  },
  {
   "cell_type": "code",
   "execution_count": 3,
   "metadata": {},
   "outputs": [],
   "source": [
    "import cleaning_functions as clnf\n",
    "import plotting_functions as pltf"
   ]
  },
  {
   "cell_type": "markdown",
   "metadata": {},
   "source": [
    "Import data as a dataframe"
   ]
  },
  {
   "cell_type": "code",
   "execution_count": 4,
   "metadata": {},
   "outputs": [],
   "source": [
    "df = pd.read_csv(\"data/Week1_challenge_data_source.csv\")"
   ]
  },
  {
   "cell_type": "code",
   "execution_count": 5,
   "metadata": {},
   "outputs": [
    {
     "data": {
      "text/html": [
       "<div>\n",
       "<style scoped>\n",
       "    .dataframe tbody tr th:only-of-type {\n",
       "        vertical-align: middle;\n",
       "    }\n",
       "\n",
       "    .dataframe tbody tr th {\n",
       "        vertical-align: top;\n",
       "    }\n",
       "\n",
       "    .dataframe thead th {\n",
       "        text-align: right;\n",
       "    }\n",
       "</style>\n",
       "<table border=\"1\" class=\"dataframe\">\n",
       "  <thead>\n",
       "    <tr style=\"text-align: right;\">\n",
       "      <th></th>\n",
       "      <th>Bearer Id</th>\n",
       "      <th>Start</th>\n",
       "      <th>Start ms</th>\n",
       "      <th>End</th>\n",
       "      <th>End ms</th>\n",
       "      <th>Dur. (ms)</th>\n",
       "      <th>IMSI</th>\n",
       "      <th>MSISDN/Number</th>\n",
       "      <th>IMEI</th>\n",
       "      <th>Last Location Name</th>\n",
       "      <th>...</th>\n",
       "      <th>Youtube DL (Bytes)</th>\n",
       "      <th>Youtube UL (Bytes)</th>\n",
       "      <th>Netflix DL (Bytes)</th>\n",
       "      <th>Netflix UL (Bytes)</th>\n",
       "      <th>Gaming DL (Bytes)</th>\n",
       "      <th>Gaming UL (Bytes)</th>\n",
       "      <th>Other DL (Bytes)</th>\n",
       "      <th>Other UL (Bytes)</th>\n",
       "      <th>Total UL (Bytes)</th>\n",
       "      <th>Total DL (Bytes)</th>\n",
       "    </tr>\n",
       "  </thead>\n",
       "  <tbody>\n",
       "    <tr>\n",
       "      <th>0</th>\n",
       "      <td>13,114,483,460,844,900,352.00</td>\n",
       "      <td>4/4/2019 12:01</td>\n",
       "      <td>770.00</td>\n",
       "      <td>4/25/2019 14:35</td>\n",
       "      <td>662.00</td>\n",
       "      <td>1,823,652.00</td>\n",
       "      <td>208,201,448,079,117.00</td>\n",
       "      <td>33,664,962,239.00</td>\n",
       "      <td>35,521,209,507,511.00</td>\n",
       "      <td>9.16456699548519E+015</td>\n",
       "      <td>...</td>\n",
       "      <td>15,854,611.00</td>\n",
       "      <td>2,501,332.00</td>\n",
       "      <td>8,198,936.00</td>\n",
       "      <td>9,656,251.00</td>\n",
       "      <td>278,082,303.00</td>\n",
       "      <td>14,344,150.00</td>\n",
       "      <td>171,744,450.00</td>\n",
       "      <td>8,814,393.00</td>\n",
       "      <td>36,749,741.00</td>\n",
       "      <td>308,879,636.00</td>\n",
       "    </tr>\n",
       "    <tr>\n",
       "      <th>1</th>\n",
       "      <td>13,114,483,482,878,900,224.00</td>\n",
       "      <td>4/9/2019 13:04</td>\n",
       "      <td>235.00</td>\n",
       "      <td>4/25/2019 8:15</td>\n",
       "      <td>606.00</td>\n",
       "      <td>1,365,104.00</td>\n",
       "      <td>208,201,909,211,140.00</td>\n",
       "      <td>33,681,854,413.00</td>\n",
       "      <td>35,794,009,006,359.00</td>\n",
       "      <td>L77566A</td>\n",
       "      <td>...</td>\n",
       "      <td>20,247,395.00</td>\n",
       "      <td>19,111,729.00</td>\n",
       "      <td>18,338,413.00</td>\n",
       "      <td>17,227,132.00</td>\n",
       "      <td>608,750,074.00</td>\n",
       "      <td>1,170,709.00</td>\n",
       "      <td>526,904,238.00</td>\n",
       "      <td>15,055,145.00</td>\n",
       "      <td>53,800,391.00</td>\n",
       "      <td>653,384,965.00</td>\n",
       "    </tr>\n",
       "    <tr>\n",
       "      <th>2</th>\n",
       "      <td>13,114,483,484,080,500,736.00</td>\n",
       "      <td>4/9/2019 17:42</td>\n",
       "      <td>1.00</td>\n",
       "      <td>4/25/2019 11:58</td>\n",
       "      <td>652.00</td>\n",
       "      <td>1,361,762.00</td>\n",
       "      <td>208,200,314,458,056.00</td>\n",
       "      <td>33,760,627,129.00</td>\n",
       "      <td>35,281,510,359,387.00</td>\n",
       "      <td>D42335A</td>\n",
       "      <td>...</td>\n",
       "      <td>19,725,661.00</td>\n",
       "      <td>14,699,576.00</td>\n",
       "      <td>17,587,794.00</td>\n",
       "      <td>6,163,408.00</td>\n",
       "      <td>229,584,621.00</td>\n",
       "      <td>395,630.00</td>\n",
       "      <td>410,692,588.00</td>\n",
       "      <td>4,215,763.00</td>\n",
       "      <td>27,883,638.00</td>\n",
       "      <td>279,807,335.00</td>\n",
       "    </tr>\n",
       "    <tr>\n",
       "      <th>3</th>\n",
       "      <td>13,114,483,485,442,799,616.00</td>\n",
       "      <td>4/10/2019 0:31</td>\n",
       "      <td>486.00</td>\n",
       "      <td>4/25/2019 7:36</td>\n",
       "      <td>171.00</td>\n",
       "      <td>1,321,509.00</td>\n",
       "      <td>208,201,402,342,131.00</td>\n",
       "      <td>33,750,343,200.00</td>\n",
       "      <td>35,356,610,164,913.00</td>\n",
       "      <td>T21824A</td>\n",
       "      <td>...</td>\n",
       "      <td>21,388,122.00</td>\n",
       "      <td>15,146,643.00</td>\n",
       "      <td>13,994,646.00</td>\n",
       "      <td>1,097,942.00</td>\n",
       "      <td>799,538,153.00</td>\n",
       "      <td>10,849,722.00</td>\n",
       "      <td>749,039,933.00</td>\n",
       "      <td>12,797,283.00</td>\n",
       "      <td>43,324,218.00</td>\n",
       "      <td>846,028,530.00</td>\n",
       "    </tr>\n",
       "    <tr>\n",
       "      <th>4</th>\n",
       "      <td>13,114,483,499,480,700,928.00</td>\n",
       "      <td>4/12/2019 20:10</td>\n",
       "      <td>565.00</td>\n",
       "      <td>4/25/2019 10:40</td>\n",
       "      <td>954.00</td>\n",
       "      <td>1,089,009.00</td>\n",
       "      <td>208,201,401,415,120.00</td>\n",
       "      <td>33,699,795,932.00</td>\n",
       "      <td>35,407,009,745,539.00</td>\n",
       "      <td>D88865A</td>\n",
       "      <td>...</td>\n",
       "      <td>15,259,380.00</td>\n",
       "      <td>18,962,873.00</td>\n",
       "      <td>17,124,581.00</td>\n",
       "      <td>415,218.00</td>\n",
       "      <td>527,707,248.00</td>\n",
       "      <td>3,529,801.00</td>\n",
       "      <td>550,709,500.00</td>\n",
       "      <td>13,910,322.00</td>\n",
       "      <td>38,542,814.00</td>\n",
       "      <td>569,138,589.00</td>\n",
       "    </tr>\n",
       "  </tbody>\n",
       "</table>\n",
       "<p>5 rows × 55 columns</p>\n",
       "</div>"
      ],
      "text/plain": [
       "                      Bearer Id            Start  Start ms              End  \\\n",
       "0 13,114,483,460,844,900,352.00   4/4/2019 12:01    770.00  4/25/2019 14:35   \n",
       "1 13,114,483,482,878,900,224.00   4/9/2019 13:04    235.00   4/25/2019 8:15   \n",
       "2 13,114,483,484,080,500,736.00   4/9/2019 17:42      1.00  4/25/2019 11:58   \n",
       "3 13,114,483,485,442,799,616.00   4/10/2019 0:31    486.00   4/25/2019 7:36   \n",
       "4 13,114,483,499,480,700,928.00  4/12/2019 20:10    565.00  4/25/2019 10:40   \n",
       "\n",
       "   End ms    Dur. (ms)                   IMSI     MSISDN/Number  \\\n",
       "0  662.00 1,823,652.00 208,201,448,079,117.00 33,664,962,239.00   \n",
       "1  606.00 1,365,104.00 208,201,909,211,140.00 33,681,854,413.00   \n",
       "2  652.00 1,361,762.00 208,200,314,458,056.00 33,760,627,129.00   \n",
       "3  171.00 1,321,509.00 208,201,402,342,131.00 33,750,343,200.00   \n",
       "4  954.00 1,089,009.00 208,201,401,415,120.00 33,699,795,932.00   \n",
       "\n",
       "                   IMEI     Last Location Name  ...  Youtube DL (Bytes)  \\\n",
       "0 35,521,209,507,511.00  9.16456699548519E+015  ...       15,854,611.00   \n",
       "1 35,794,009,006,359.00                L77566A  ...       20,247,395.00   \n",
       "2 35,281,510,359,387.00                D42335A  ...       19,725,661.00   \n",
       "3 35,356,610,164,913.00                T21824A  ...       21,388,122.00   \n",
       "4 35,407,009,745,539.00                D88865A  ...       15,259,380.00   \n",
       "\n",
       "   Youtube UL (Bytes)  Netflix DL (Bytes)  Netflix UL (Bytes)  \\\n",
       "0        2,501,332.00        8,198,936.00        9,656,251.00   \n",
       "1       19,111,729.00       18,338,413.00       17,227,132.00   \n",
       "2       14,699,576.00       17,587,794.00        6,163,408.00   \n",
       "3       15,146,643.00       13,994,646.00        1,097,942.00   \n",
       "4       18,962,873.00       17,124,581.00          415,218.00   \n",
       "\n",
       "   Gaming DL (Bytes)  Gaming UL (Bytes)  Other DL (Bytes)  Other UL (Bytes)  \\\n",
       "0     278,082,303.00      14,344,150.00    171,744,450.00      8,814,393.00   \n",
       "1     608,750,074.00       1,170,709.00    526,904,238.00     15,055,145.00   \n",
       "2     229,584,621.00         395,630.00    410,692,588.00      4,215,763.00   \n",
       "3     799,538,153.00      10,849,722.00    749,039,933.00     12,797,283.00   \n",
       "4     527,707,248.00       3,529,801.00    550,709,500.00     13,910,322.00   \n",
       "\n",
       "   Total UL (Bytes)  Total DL (Bytes)  \n",
       "0     36,749,741.00    308,879,636.00  \n",
       "1     53,800,391.00    653,384,965.00  \n",
       "2     27,883,638.00    279,807,335.00  \n",
       "3     43,324,218.00    846,028,530.00  \n",
       "4     38,542,814.00    569,138,589.00  \n",
       "\n",
       "[5 rows x 55 columns]"
      ]
     },
     "execution_count": 5,
     "metadata": {},
     "output_type": "execute_result"
    }
   ],
   "source": [
    "df.head(5)"
   ]
  },
  {
   "cell_type": "markdown",
   "metadata": {},
   "source": [
    "Before Cleaning the dataset, we explore what has been stored in it. The column names, how many data points, number of colum etc. All these questions needs to be answered"
   ]
  },
  {
   "cell_type": "code",
   "execution_count": 6,
   "metadata": {
    "scrolled": true
   },
   "outputs": [
    {
     "name": "stdout",
     "output_type": "stream",
     "text": [
      "The data has 150001 rows and 55 columns\n"
     ]
    }
   ],
   "source": [
    "print(\"The data has {} rows and {} columns\".format(df.shape[0], df.shape[1]))"
   ]
  },
  {
   "cell_type": "code",
   "execution_count": 7,
   "metadata": {},
   "outputs": [
    {
     "name": "stdout",
     "output_type": "stream",
     "text": [
      "<class 'pandas.core.frame.DataFrame'>\n",
      "RangeIndex: 150001 entries, 0 to 150000\n",
      "Data columns (total 55 columns):\n",
      " #   Column                                    Non-Null Count   Dtype  \n",
      "---  ------                                    --------------   -----  \n",
      " 0   Bearer Id                                 149010 non-null  float64\n",
      " 1   Start                                     150000 non-null  object \n",
      " 2   Start ms                                  150000 non-null  float64\n",
      " 3   End                                       150000 non-null  object \n",
      " 4   End ms                                    150000 non-null  float64\n",
      " 5   Dur. (ms)                                 150000 non-null  float64\n",
      " 6   IMSI                                      149431 non-null  float64\n",
      " 7   MSISDN/Number                             148935 non-null  float64\n",
      " 8   IMEI                                      149429 non-null  float64\n",
      " 9   Last Location Name                        148848 non-null  object \n",
      " 10  Avg RTT DL (ms)                           122172 non-null  float64\n",
      " 11  Avg RTT UL (ms)                           122189 non-null  float64\n",
      " 12  Avg Bearer TP DL (kbps)                   150000 non-null  float64\n",
      " 13  Avg Bearer TP UL (kbps)                   150000 non-null  float64\n",
      " 14  TCP DL Retrans. Vol (Bytes)               61855 non-null   float64\n",
      " 15  TCP UL Retrans. Vol (Bytes)               53352 non-null   float64\n",
      " 16  DL TP < 50 Kbps (%)                       149247 non-null  float64\n",
      " 17  50 Kbps < DL TP < 250 Kbps (%)            149247 non-null  float64\n",
      " 18  250 Kbps < DL TP < 1 Mbps (%)             149247 non-null  float64\n",
      " 19  DL TP > 1 Mbps (%)                        149247 non-null  float64\n",
      " 20  UL TP < 10 Kbps (%)                       149209 non-null  float64\n",
      " 21  10 Kbps < UL TP < 50 Kbps (%)             149209 non-null  float64\n",
      " 22  50 Kbps < UL TP < 300 Kbps (%)            149209 non-null  float64\n",
      " 23  UL TP > 300 Kbps (%)                      149209 non-null  float64\n",
      " 24  HTTP DL (Bytes)                           68527 non-null   float64\n",
      " 25  HTTP UL (Bytes)                           68191 non-null   float64\n",
      " 26  Activity Duration DL (ms)                 150000 non-null  float64\n",
      " 27  Activity Duration UL (ms)                 150000 non-null  float64\n",
      " 28  Dur. (ms).1                               150000 non-null  float64\n",
      " 29  Handset Manufacturer                      149429 non-null  object \n",
      " 30  Handset Type                              149429 non-null  object \n",
      " 31  Nb of sec with 125000B < Vol DL           52463 non-null   float64\n",
      " 32  Nb of sec with 1250B < Vol UL < 6250B     57107 non-null   float64\n",
      " 33  Nb of sec with 31250B < Vol DL < 125000B  56415 non-null   float64\n",
      " 34  Nb of sec with 37500B < Vol UL            19747 non-null   float64\n",
      " 35  Nb of sec with 6250B < Vol DL < 31250B    61684 non-null   float64\n",
      " 36  Nb of sec with 6250B < Vol UL < 37500B    38158 non-null   float64\n",
      " 37  Nb of sec with Vol DL < 6250B             149246 non-null  float64\n",
      " 38  Nb of sec with Vol UL < 1250B             149208 non-null  float64\n",
      " 39  Social Media DL (Bytes)                   150001 non-null  float64\n",
      " 40  Social Media UL (Bytes)                   150001 non-null  float64\n",
      " 41  Google DL (Bytes)                         150001 non-null  float64\n",
      " 42  Google UL (Bytes)                         150001 non-null  float64\n",
      " 43  Email DL (Bytes)                          150001 non-null  float64\n",
      " 44  Email UL (Bytes)                          150001 non-null  float64\n",
      " 45  Youtube DL (Bytes)                        150001 non-null  float64\n",
      " 46  Youtube UL (Bytes)                        150001 non-null  float64\n",
      " 47  Netflix DL (Bytes)                        150001 non-null  float64\n",
      " 48  Netflix UL (Bytes)                        150001 non-null  float64\n",
      " 49  Gaming DL (Bytes)                         150001 non-null  float64\n",
      " 50  Gaming UL (Bytes)                         150001 non-null  float64\n",
      " 51  Other DL (Bytes)                          150001 non-null  float64\n",
      " 52  Other UL (Bytes)                          150001 non-null  float64\n",
      " 53  Total UL (Bytes)                          150000 non-null  float64\n",
      " 54  Total DL (Bytes)                          150000 non-null  float64\n",
      "dtypes: float64(50), object(5)\n",
      "memory usage: 62.9+ MB\n"
     ]
    }
   ],
   "source": [
    "df.info()"
   ]
  },
  {
   "cell_type": "code",
   "execution_count": 8,
   "metadata": {},
   "outputs": [
    {
     "data": {
      "text/html": [
       "<div>\n",
       "<style scoped>\n",
       "    .dataframe tbody tr th:only-of-type {\n",
       "        vertical-align: middle;\n",
       "    }\n",
       "\n",
       "    .dataframe tbody tr th {\n",
       "        vertical-align: top;\n",
       "    }\n",
       "\n",
       "    .dataframe thead th {\n",
       "        text-align: right;\n",
       "    }\n",
       "</style>\n",
       "<table border=\"1\" class=\"dataframe\">\n",
       "  <thead>\n",
       "    <tr style=\"text-align: right;\">\n",
       "      <th></th>\n",
       "      <th>Fields</th>\n",
       "      <th>Description</th>\n",
       "    </tr>\n",
       "  </thead>\n",
       "  <tbody>\n",
       "    <tr>\n",
       "      <th>0</th>\n",
       "      <td>bearer id</td>\n",
       "      <td>xDr session identifier</td>\n",
       "    </tr>\n",
       "    <tr>\n",
       "      <th>1</th>\n",
       "      <td>Dur. (ms)</td>\n",
       "      <td>Total Duration of the xDR (in ms)</td>\n",
       "    </tr>\n",
       "    <tr>\n",
       "      <th>2</th>\n",
       "      <td>Start</td>\n",
       "      <td>Start time of the xDR (first frame timestamp)</td>\n",
       "    </tr>\n",
       "    <tr>\n",
       "      <th>3</th>\n",
       "      <td>Start ms</td>\n",
       "      <td>Milliseconds offset of start time for the xDR ...</td>\n",
       "    </tr>\n",
       "    <tr>\n",
       "      <th>4</th>\n",
       "      <td>End</td>\n",
       "      <td>End time of the xDR (last frame timestamp)</td>\n",
       "    </tr>\n",
       "  </tbody>\n",
       "</table>\n",
       "</div>"
      ],
      "text/plain": [
       "      Fields                                        Description\n",
       "0  bearer id                             xDr session identifier\n",
       "1  Dur. (ms)                  Total Duration of the xDR (in ms)\n",
       "2      Start      Start time of the xDR (first frame timestamp)\n",
       "3   Start ms  Milliseconds offset of start time for the xDR ...\n",
       "4        End         End time of the xDR (last frame timestamp)"
      ]
     },
     "execution_count": 8,
     "metadata": {},
     "output_type": "execute_result"
    }
   ],
   "source": [
    "fl_descp = pd.read_excel(\"data/Field_Descriptions.xlsx\")\n",
    "fl_descp.head(5)"
   ]
  },
  {
   "cell_type": "markdown",
   "metadata": {},
   "source": [
    "# Cleaning The Data"
   ]
  },
  {
   "cell_type": "code",
   "execution_count": 9,
   "metadata": {
    "scrolled": true
   },
   "outputs": [
    {
     "name": "stdout",
     "output_type": "stream",
     "text": [
      "Your selected dataframe has 55 columns.\n",
      "There are 41 columns that have missing values.\n"
     ]
    }
   ],
   "source": [
    "miss_df = clnf.missing_values_table(df)"
   ]
  },
  {
   "cell_type": "code",
   "execution_count": 10,
   "metadata": {
    "scrolled": false
   },
   "outputs": [
    {
     "data": {
      "text/html": [
       "<div>\n",
       "<style scoped>\n",
       "    .dataframe tbody tr th:only-of-type {\n",
       "        vertical-align: middle;\n",
       "    }\n",
       "\n",
       "    .dataframe tbody tr th {\n",
       "        vertical-align: top;\n",
       "    }\n",
       "\n",
       "    .dataframe thead th {\n",
       "        text-align: right;\n",
       "    }\n",
       "</style>\n",
       "<table border=\"1\" class=\"dataframe\">\n",
       "  <thead>\n",
       "    <tr style=\"text-align: right;\">\n",
       "      <th></th>\n",
       "      <th>Missing Values</th>\n",
       "      <th>% of Total Values</th>\n",
       "      <th>Dtype</th>\n",
       "    </tr>\n",
       "  </thead>\n",
       "  <tbody>\n",
       "    <tr>\n",
       "      <th>Nb of sec with 37500B &lt; Vol UL</th>\n",
       "      <td>130254</td>\n",
       "      <td>86.80</td>\n",
       "      <td>float64</td>\n",
       "    </tr>\n",
       "    <tr>\n",
       "      <th>Nb of sec with 6250B &lt; Vol UL &lt; 37500B</th>\n",
       "      <td>111843</td>\n",
       "      <td>74.60</td>\n",
       "      <td>float64</td>\n",
       "    </tr>\n",
       "    <tr>\n",
       "      <th>Nb of sec with 125000B &lt; Vol DL</th>\n",
       "      <td>97538</td>\n",
       "      <td>65.00</td>\n",
       "      <td>float64</td>\n",
       "    </tr>\n",
       "    <tr>\n",
       "      <th>TCP UL Retrans. Vol (Bytes)</th>\n",
       "      <td>96649</td>\n",
       "      <td>64.40</td>\n",
       "      <td>float64</td>\n",
       "    </tr>\n",
       "    <tr>\n",
       "      <th>Nb of sec with 31250B &lt; Vol DL &lt; 125000B</th>\n",
       "      <td>93586</td>\n",
       "      <td>62.40</td>\n",
       "      <td>float64</td>\n",
       "    </tr>\n",
       "    <tr>\n",
       "      <th>Nb of sec with 1250B &lt; Vol UL &lt; 6250B</th>\n",
       "      <td>92894</td>\n",
       "      <td>61.90</td>\n",
       "      <td>float64</td>\n",
       "    </tr>\n",
       "    <tr>\n",
       "      <th>Nb of sec with 6250B &lt; Vol DL &lt; 31250B</th>\n",
       "      <td>88317</td>\n",
       "      <td>58.90</td>\n",
       "      <td>float64</td>\n",
       "    </tr>\n",
       "    <tr>\n",
       "      <th>TCP DL Retrans. Vol (Bytes)</th>\n",
       "      <td>88146</td>\n",
       "      <td>58.80</td>\n",
       "      <td>float64</td>\n",
       "    </tr>\n",
       "    <tr>\n",
       "      <th>HTTP UL (Bytes)</th>\n",
       "      <td>81810</td>\n",
       "      <td>54.50</td>\n",
       "      <td>float64</td>\n",
       "    </tr>\n",
       "    <tr>\n",
       "      <th>HTTP DL (Bytes)</th>\n",
       "      <td>81474</td>\n",
       "      <td>54.30</td>\n",
       "      <td>float64</td>\n",
       "    </tr>\n",
       "    <tr>\n",
       "      <th>Avg RTT DL (ms)</th>\n",
       "      <td>27829</td>\n",
       "      <td>18.60</td>\n",
       "      <td>float64</td>\n",
       "    </tr>\n",
       "    <tr>\n",
       "      <th>Avg RTT UL (ms)</th>\n",
       "      <td>27812</td>\n",
       "      <td>18.50</td>\n",
       "      <td>float64</td>\n",
       "    </tr>\n",
       "    <tr>\n",
       "      <th>Last Location Name</th>\n",
       "      <td>1153</td>\n",
       "      <td>0.80</td>\n",
       "      <td>object</td>\n",
       "    </tr>\n",
       "    <tr>\n",
       "      <th>MSISDN/Number</th>\n",
       "      <td>1066</td>\n",
       "      <td>0.70</td>\n",
       "      <td>float64</td>\n",
       "    </tr>\n",
       "    <tr>\n",
       "      <th>Bearer Id</th>\n",
       "      <td>991</td>\n",
       "      <td>0.70</td>\n",
       "      <td>float64</td>\n",
       "    </tr>\n",
       "    <tr>\n",
       "      <th>Nb of sec with Vol UL &lt; 1250B</th>\n",
       "      <td>793</td>\n",
       "      <td>0.50</td>\n",
       "      <td>float64</td>\n",
       "    </tr>\n",
       "    <tr>\n",
       "      <th>10 Kbps &lt; UL TP &lt; 50 Kbps (%)</th>\n",
       "      <td>792</td>\n",
       "      <td>0.50</td>\n",
       "      <td>float64</td>\n",
       "    </tr>\n",
       "    <tr>\n",
       "      <th>UL TP &gt; 300 Kbps (%)</th>\n",
       "      <td>792</td>\n",
       "      <td>0.50</td>\n",
       "      <td>float64</td>\n",
       "    </tr>\n",
       "    <tr>\n",
       "      <th>50 Kbps &lt; UL TP &lt; 300 Kbps (%)</th>\n",
       "      <td>792</td>\n",
       "      <td>0.50</td>\n",
       "      <td>float64</td>\n",
       "    </tr>\n",
       "    <tr>\n",
       "      <th>UL TP &lt; 10 Kbps (%)</th>\n",
       "      <td>792</td>\n",
       "      <td>0.50</td>\n",
       "      <td>float64</td>\n",
       "    </tr>\n",
       "    <tr>\n",
       "      <th>Nb of sec with Vol DL &lt; 6250B</th>\n",
       "      <td>755</td>\n",
       "      <td>0.50</td>\n",
       "      <td>float64</td>\n",
       "    </tr>\n",
       "    <tr>\n",
       "      <th>250 Kbps &lt; DL TP &lt; 1 Mbps (%)</th>\n",
       "      <td>754</td>\n",
       "      <td>0.50</td>\n",
       "      <td>float64</td>\n",
       "    </tr>\n",
       "    <tr>\n",
       "      <th>50 Kbps &lt; DL TP &lt; 250 Kbps (%)</th>\n",
       "      <td>754</td>\n",
       "      <td>0.50</td>\n",
       "      <td>float64</td>\n",
       "    </tr>\n",
       "    <tr>\n",
       "      <th>DL TP &lt; 50 Kbps (%)</th>\n",
       "      <td>754</td>\n",
       "      <td>0.50</td>\n",
       "      <td>float64</td>\n",
       "    </tr>\n",
       "    <tr>\n",
       "      <th>DL TP &gt; 1 Mbps (%)</th>\n",
       "      <td>754</td>\n",
       "      <td>0.50</td>\n",
       "      <td>float64</td>\n",
       "    </tr>\n",
       "    <tr>\n",
       "      <th>Handset Type</th>\n",
       "      <td>572</td>\n",
       "      <td>0.40</td>\n",
       "      <td>object</td>\n",
       "    </tr>\n",
       "    <tr>\n",
       "      <th>Handset Manufacturer</th>\n",
       "      <td>572</td>\n",
       "      <td>0.40</td>\n",
       "      <td>object</td>\n",
       "    </tr>\n",
       "    <tr>\n",
       "      <th>IMEI</th>\n",
       "      <td>572</td>\n",
       "      <td>0.40</td>\n",
       "      <td>float64</td>\n",
       "    </tr>\n",
       "    <tr>\n",
       "      <th>IMSI</th>\n",
       "      <td>570</td>\n",
       "      <td>0.40</td>\n",
       "      <td>float64</td>\n",
       "    </tr>\n",
       "    <tr>\n",
       "      <th>Dur. (ms)</th>\n",
       "      <td>1</td>\n",
       "      <td>0.00</td>\n",
       "      <td>float64</td>\n",
       "    </tr>\n",
       "    <tr>\n",
       "      <th>Total UL (Bytes)</th>\n",
       "      <td>1</td>\n",
       "      <td>0.00</td>\n",
       "      <td>float64</td>\n",
       "    </tr>\n",
       "    <tr>\n",
       "      <th>Start ms</th>\n",
       "      <td>1</td>\n",
       "      <td>0.00</td>\n",
       "      <td>float64</td>\n",
       "    </tr>\n",
       "    <tr>\n",
       "      <th>End</th>\n",
       "      <td>1</td>\n",
       "      <td>0.00</td>\n",
       "      <td>object</td>\n",
       "    </tr>\n",
       "    <tr>\n",
       "      <th>End ms</th>\n",
       "      <td>1</td>\n",
       "      <td>0.00</td>\n",
       "      <td>float64</td>\n",
       "    </tr>\n",
       "    <tr>\n",
       "      <th>Start</th>\n",
       "      <td>1</td>\n",
       "      <td>0.00</td>\n",
       "      <td>object</td>\n",
       "    </tr>\n",
       "    <tr>\n",
       "      <th>Avg Bearer TP DL (kbps)</th>\n",
       "      <td>1</td>\n",
       "      <td>0.00</td>\n",
       "      <td>float64</td>\n",
       "    </tr>\n",
       "    <tr>\n",
       "      <th>Dur. (ms).1</th>\n",
       "      <td>1</td>\n",
       "      <td>0.00</td>\n",
       "      <td>float64</td>\n",
       "    </tr>\n",
       "    <tr>\n",
       "      <th>Activity Duration UL (ms)</th>\n",
       "      <td>1</td>\n",
       "      <td>0.00</td>\n",
       "      <td>float64</td>\n",
       "    </tr>\n",
       "    <tr>\n",
       "      <th>Activity Duration DL (ms)</th>\n",
       "      <td>1</td>\n",
       "      <td>0.00</td>\n",
       "      <td>float64</td>\n",
       "    </tr>\n",
       "    <tr>\n",
       "      <th>Avg Bearer TP UL (kbps)</th>\n",
       "      <td>1</td>\n",
       "      <td>0.00</td>\n",
       "      <td>float64</td>\n",
       "    </tr>\n",
       "    <tr>\n",
       "      <th>Total DL (Bytes)</th>\n",
       "      <td>1</td>\n",
       "      <td>0.00</td>\n",
       "      <td>float64</td>\n",
       "    </tr>\n",
       "  </tbody>\n",
       "</table>\n",
       "</div>"
      ],
      "text/plain": [
       "                                          Missing Values  % of Total Values  \\\n",
       "Nb of sec with 37500B < Vol UL                    130254              86.80   \n",
       "Nb of sec with 6250B < Vol UL < 37500B            111843              74.60   \n",
       "Nb of sec with 125000B < Vol DL                    97538              65.00   \n",
       "TCP UL Retrans. Vol (Bytes)                        96649              64.40   \n",
       "Nb of sec with 31250B < Vol DL < 125000B           93586              62.40   \n",
       "Nb of sec with 1250B < Vol UL < 6250B              92894              61.90   \n",
       "Nb of sec with 6250B < Vol DL < 31250B             88317              58.90   \n",
       "TCP DL Retrans. Vol (Bytes)                        88146              58.80   \n",
       "HTTP UL (Bytes)                                    81810              54.50   \n",
       "HTTP DL (Bytes)                                    81474              54.30   \n",
       "Avg RTT DL (ms)                                    27829              18.60   \n",
       "Avg RTT UL (ms)                                    27812              18.50   \n",
       "Last Location Name                                  1153               0.80   \n",
       "MSISDN/Number                                       1066               0.70   \n",
       "Bearer Id                                            991               0.70   \n",
       "Nb of sec with Vol UL < 1250B                        793               0.50   \n",
       "10 Kbps < UL TP < 50 Kbps (%)                        792               0.50   \n",
       "UL TP > 300 Kbps (%)                                 792               0.50   \n",
       "50 Kbps < UL TP < 300 Kbps (%)                       792               0.50   \n",
       "UL TP < 10 Kbps (%)                                  792               0.50   \n",
       "Nb of sec with Vol DL < 6250B                        755               0.50   \n",
       "250 Kbps < DL TP < 1 Mbps (%)                        754               0.50   \n",
       "50 Kbps < DL TP < 250 Kbps (%)                       754               0.50   \n",
       "DL TP < 50 Kbps (%)                                  754               0.50   \n",
       "DL TP > 1 Mbps (%)                                   754               0.50   \n",
       "Handset Type                                         572               0.40   \n",
       "Handset Manufacturer                                 572               0.40   \n",
       "IMEI                                                 572               0.40   \n",
       "IMSI                                                 570               0.40   \n",
       "Dur. (ms)                                              1               0.00   \n",
       "Total UL (Bytes)                                       1               0.00   \n",
       "Start ms                                               1               0.00   \n",
       "End                                                    1               0.00   \n",
       "End ms                                                 1               0.00   \n",
       "Start                                                  1               0.00   \n",
       "Avg Bearer TP DL (kbps)                                1               0.00   \n",
       "Dur. (ms).1                                            1               0.00   \n",
       "Activity Duration UL (ms)                              1               0.00   \n",
       "Activity Duration DL (ms)                              1               0.00   \n",
       "Avg Bearer TP UL (kbps)                                1               0.00   \n",
       "Total DL (Bytes)                                       1               0.00   \n",
       "\n",
       "                                            Dtype  \n",
       "Nb of sec with 37500B < Vol UL            float64  \n",
       "Nb of sec with 6250B < Vol UL < 37500B    float64  \n",
       "Nb of sec with 125000B < Vol DL           float64  \n",
       "TCP UL Retrans. Vol (Bytes)               float64  \n",
       "Nb of sec with 31250B < Vol DL < 125000B  float64  \n",
       "Nb of sec with 1250B < Vol UL < 6250B     float64  \n",
       "Nb of sec with 6250B < Vol DL < 31250B    float64  \n",
       "TCP DL Retrans. Vol (Bytes)               float64  \n",
       "HTTP UL (Bytes)                           float64  \n",
       "HTTP DL (Bytes)                           float64  \n",
       "Avg RTT DL (ms)                           float64  \n",
       "Avg RTT UL (ms)                           float64  \n",
       "Last Location Name                         object  \n",
       "MSISDN/Number                             float64  \n",
       "Bearer Id                                 float64  \n",
       "Nb of sec with Vol UL < 1250B             float64  \n",
       "10 Kbps < UL TP < 50 Kbps (%)             float64  \n",
       "UL TP > 300 Kbps (%)                      float64  \n",
       "50 Kbps < UL TP < 300 Kbps (%)            float64  \n",
       "UL TP < 10 Kbps (%)                       float64  \n",
       "Nb of sec with Vol DL < 6250B             float64  \n",
       "250 Kbps < DL TP < 1 Mbps (%)             float64  \n",
       "50 Kbps < DL TP < 250 Kbps (%)            float64  \n",
       "DL TP < 50 Kbps (%)                       float64  \n",
       "DL TP > 1 Mbps (%)                        float64  \n",
       "Handset Type                               object  \n",
       "Handset Manufacturer                       object  \n",
       "IMEI                                      float64  \n",
       "IMSI                                      float64  \n",
       "Dur. (ms)                                 float64  \n",
       "Total UL (Bytes)                          float64  \n",
       "Start ms                                  float64  \n",
       "End                                        object  \n",
       "End ms                                    float64  \n",
       "Start                                      object  \n",
       "Avg Bearer TP DL (kbps)                   float64  \n",
       "Dur. (ms).1                               float64  \n",
       "Activity Duration UL (ms)                 float64  \n",
       "Activity Duration DL (ms)                 float64  \n",
       "Avg Bearer TP UL (kbps)                   float64  \n",
       "Total DL (Bytes)                          float64  "
      ]
     },
     "execution_count": 10,
     "metadata": {},
     "output_type": "execute_result"
    }
   ],
   "source": [
    "miss_df"
   ]
  },
  {
   "cell_type": "markdown",
   "metadata": {},
   "source": [
    "We see that some columns are missing a lot of values. Handeling missing values depend on:\n",
    "1. percentage of missing values\n",
    "2. type of values\n",
    "3. distribution of values"
   ]
  },
  {
   "cell_type": "markdown",
   "metadata": {},
   "source": [
    "0. we drop columns missing > 50% of values"
   ]
  },
  {
   "cell_type": "code",
   "execution_count": 11,
   "metadata": {},
   "outputs": [],
   "source": [
    "cols_to_drop = miss_df[miss_df['% of Total Values'] > 15].index.to_list()"
   ]
  },
  {
   "cell_type": "code",
   "execution_count": 12,
   "metadata": {},
   "outputs": [],
   "source": [
    "df_clean = df.drop(cols_to_drop, axis = 1)"
   ]
  },
  {
   "cell_type": "markdown",
   "metadata": {},
   "source": [
    "1. Columns that include unique identifiers, like 'Bearer Id', 'IMSI', 'IMEI'. Rows that have missing ids are useless and should be droped"
   ]
  },
  {
   "cell_type": "code",
   "execution_count": 13,
   "metadata": {},
   "outputs": [
    {
     "data": {
      "text/html": [
       "<div>\n",
       "<style scoped>\n",
       "    .dataframe tbody tr th:only-of-type {\n",
       "        vertical-align: middle;\n",
       "    }\n",
       "\n",
       "    .dataframe tbody tr th {\n",
       "        vertical-align: top;\n",
       "    }\n",
       "\n",
       "    .dataframe thead th {\n",
       "        text-align: right;\n",
       "    }\n",
       "</style>\n",
       "<table border=\"1\" class=\"dataframe\">\n",
       "  <thead>\n",
       "    <tr style=\"text-align: right;\">\n",
       "      <th></th>\n",
       "      <th>Fields</th>\n",
       "      <th>Description</th>\n",
       "    </tr>\n",
       "  </thead>\n",
       "  <tbody>\n",
       "    <tr>\n",
       "      <th>0</th>\n",
       "      <td>bearer id</td>\n",
       "      <td>xDr session identifier</td>\n",
       "    </tr>\n",
       "    <tr>\n",
       "      <th>7</th>\n",
       "      <td>IMSI</td>\n",
       "      <td>International Mobile Subscriber Identity</td>\n",
       "    </tr>\n",
       "    <tr>\n",
       "      <th>9</th>\n",
       "      <td>IMEI</td>\n",
       "      <td>International Mobile Equipment Identity</td>\n",
       "    </tr>\n",
       "  </tbody>\n",
       "</table>\n",
       "</div>"
      ],
      "text/plain": [
       "      Fields                               Description\n",
       "0  bearer id                    xDr session identifier\n",
       "7       IMSI  International Mobile Subscriber Identity\n",
       "9       IMEI   International Mobile Equipment Identity"
      ]
     },
     "execution_count": 13,
     "metadata": {},
     "output_type": "execute_result"
    }
   ],
   "source": [
    "fl_descp[fl_descp['Fields'].apply(lambda x: x in ['bearer id', 'IMSI', 'IMEI'])]"
   ]
  },
  {
   "cell_type": "code",
   "execution_count": 14,
   "metadata": {},
   "outputs": [
    {
     "name": "stdout",
     "output_type": "stream",
     "text": [
      "Your selected dataframe has 43 columns.\n",
      "There are 12 columns that have missing values.\n"
     ]
    }
   ],
   "source": [
    "df_clean = df_clean.dropna(subset=['Bearer Id', 'IMSI', 'IMEI'])\n",
    "\n",
    "# update what are the missing values in this new dataframe df_clean\n",
    "\n",
    "miss_df = clnf.missing_values_table(df_clean)"
   ]
  },
  {
   "cell_type": "markdown",
   "metadata": {},
   "source": [
    "2. \"Last Location Name\", \"MSI SDN/Number\" and \"DL TP < 50 Kbps (%)\" columns have little missing data, we can drop them"
   ]
  },
  {
   "cell_type": "code",
   "execution_count": 15,
   "metadata": {
    "scrolled": true
   },
   "outputs": [
    {
     "data": {
      "text/html": [
       "<div>\n",
       "<style scoped>\n",
       "    .dataframe tbody tr th:only-of-type {\n",
       "        vertical-align: middle;\n",
       "    }\n",
       "\n",
       "    .dataframe tbody tr th {\n",
       "        vertical-align: top;\n",
       "    }\n",
       "\n",
       "    .dataframe thead th {\n",
       "        text-align: right;\n",
       "    }\n",
       "</style>\n",
       "<table border=\"1\" class=\"dataframe\">\n",
       "  <thead>\n",
       "    <tr style=\"text-align: right;\">\n",
       "      <th></th>\n",
       "      <th>Fields</th>\n",
       "      <th>Description</th>\n",
       "    </tr>\n",
       "  </thead>\n",
       "  <tbody>\n",
       "    <tr>\n",
       "      <th>8</th>\n",
       "      <td>MSISDN/Number</td>\n",
       "      <td>MS International PSTN/ISDN Number of mobile - ...</td>\n",
       "    </tr>\n",
       "    <tr>\n",
       "      <th>10</th>\n",
       "      <td>Last Location Name</td>\n",
       "      <td>User location call name (2G/3G/4G) at the end ...</td>\n",
       "    </tr>\n",
       "  </tbody>\n",
       "</table>\n",
       "</div>"
      ],
      "text/plain": [
       "                Fields                                        Description\n",
       "8        MSISDN/Number  MS International PSTN/ISDN Number of mobile - ...\n",
       "10  Last Location Name  User location call name (2G/3G/4G) at the end ..."
      ]
     },
     "execution_count": 15,
     "metadata": {},
     "output_type": "execute_result"
    }
   ],
   "source": [
    "fl_descp[fl_descp['Fields'].apply(lambda x: x in [\"Last Location Name\", \"MSISDN/Number\"])]"
   ]
  },
  {
   "cell_type": "code",
   "execution_count": 16,
   "metadata": {},
   "outputs": [
    {
     "data": {
      "text/plain": [
       "['Duration ratio when Bearer Downlink Throughput < ….']"
      ]
     },
     "execution_count": 16,
     "metadata": {},
     "output_type": "execute_result"
    }
   ],
   "source": [
    "fl_descp[fl_descp['Fields'] == 'DL TP < 50 Kbps (%)'].Description.to_list()"
   ]
  },
  {
   "cell_type": "code",
   "execution_count": 17,
   "metadata": {},
   "outputs": [],
   "source": [
    "df_clean = df_clean.dropna(subset=[\"Last Location Name\", \"MSISDN/Number\"])"
   ]
  },
  {
   "cell_type": "code",
   "execution_count": 18,
   "metadata": {},
   "outputs": [
    {
     "name": "stdout",
     "output_type": "stream",
     "text": [
      "Your selected dataframe has 43 columns.\n",
      "There are 10 columns that have missing values.\n"
     ]
    }
   ],
   "source": [
    "miss_df = clnf.missing_values_table(df_clean)"
   ]
  },
  {
   "cell_type": "code",
   "execution_count": 19,
   "metadata": {},
   "outputs": [],
   "source": [
    "DL_columns = ['DL TP > 1 Mbps (%)', '250 Kbps < DL TP < 1 Mbps (%)', \n",
    "              '50 Kbps < DL TP < 250 Kbps (%)', 'DL TP < 50 Kbps (%)']\n",
    "\n",
    "UL_columns = ['UL TP > 300 Kbps (%)', '50 Kbps < UL TP < 300 Kbps (%)', \n",
    "              '10 Kbps < UL TP < 50 Kbps (%)', 'UL TP < 10 Kbps (%)']"
   ]
  },
  {
   "cell_type": "markdown",
   "metadata": {},
   "source": [
    "3. DL_columns and UL_columns have little missing data, we can drop them"
   ]
  },
  {
   "cell_type": "code",
   "execution_count": 20,
   "metadata": {},
   "outputs": [
    {
     "data": {
      "text/html": [
       "<div>\n",
       "<style scoped>\n",
       "    .dataframe tbody tr th:only-of-type {\n",
       "        vertical-align: middle;\n",
       "    }\n",
       "\n",
       "    .dataframe tbody tr th {\n",
       "        vertical-align: top;\n",
       "    }\n",
       "\n",
       "    .dataframe thead th {\n",
       "        text-align: right;\n",
       "    }\n",
       "</style>\n",
       "<table border=\"1\" class=\"dataframe\">\n",
       "  <thead>\n",
       "    <tr style=\"text-align: right;\">\n",
       "      <th></th>\n",
       "      <th>Fields</th>\n",
       "      <th>Description</th>\n",
       "    </tr>\n",
       "  </thead>\n",
       "  <tbody>\n",
       "    <tr>\n",
       "      <th>17</th>\n",
       "      <td>DL TP &lt; 50 Kbps (%)</td>\n",
       "      <td>Duration ratio when Bearer Downlink Throughput...</td>\n",
       "    </tr>\n",
       "    <tr>\n",
       "      <th>18</th>\n",
       "      <td>50 Kbps &lt; DL TP &lt; 250 Kbps (%)</td>\n",
       "      <td>Duration ratio when Bearer Downlink Throughput...</td>\n",
       "    </tr>\n",
       "    <tr>\n",
       "      <th>19</th>\n",
       "      <td>250 Kbps &lt; DL TP &lt; 1 Mbps (%)</td>\n",
       "      <td>Duration ratio when Bearer Downlink Throughput...</td>\n",
       "    </tr>\n",
       "    <tr>\n",
       "      <th>20</th>\n",
       "      <td>DL TP &gt; 1 Mbps (%)</td>\n",
       "      <td>Duration ratio when Bearer Downlink Throughput...</td>\n",
       "    </tr>\n",
       "    <tr>\n",
       "      <th>21</th>\n",
       "      <td>UL TP &lt; 10 Kbps (%)</td>\n",
       "      <td>Duration ratio when Bearer Uplink Throughput &lt; ….</td>\n",
       "    </tr>\n",
       "    <tr>\n",
       "      <th>22</th>\n",
       "      <td>10 Kbps &lt; UL TP &lt; 50 Kbps (%)</td>\n",
       "      <td>Duration ratio when Bearer Uplink Throughput r...</td>\n",
       "    </tr>\n",
       "    <tr>\n",
       "      <th>23</th>\n",
       "      <td>50 Kbps &lt; UL TP &lt; 300 Kbps (%)</td>\n",
       "      <td>Duration ratio when Bearer Uplink Throughput r...</td>\n",
       "    </tr>\n",
       "    <tr>\n",
       "      <th>24</th>\n",
       "      <td>UL TP &gt; 300 Kbps (%)</td>\n",
       "      <td>Duration ratio when Bearer Uplink Throughput &gt; ….</td>\n",
       "    </tr>\n",
       "  </tbody>\n",
       "</table>\n",
       "</div>"
      ],
      "text/plain": [
       "                            Fields  \\\n",
       "17             DL TP < 50 Kbps (%)   \n",
       "18  50 Kbps < DL TP < 250 Kbps (%)   \n",
       "19   250 Kbps < DL TP < 1 Mbps (%)   \n",
       "20              DL TP > 1 Mbps (%)   \n",
       "21             UL TP < 10 Kbps (%)   \n",
       "22   10 Kbps < UL TP < 50 Kbps (%)   \n",
       "23  50 Kbps < UL TP < 300 Kbps (%)   \n",
       "24            UL TP > 300 Kbps (%)   \n",
       "\n",
       "                                          Description  \n",
       "17  Duration ratio when Bearer Downlink Throughput...  \n",
       "18  Duration ratio when Bearer Downlink Throughput...  \n",
       "19  Duration ratio when Bearer Downlink Throughput...  \n",
       "20  Duration ratio when Bearer Downlink Throughput...  \n",
       "21  Duration ratio when Bearer Uplink Throughput < ….  \n",
       "22  Duration ratio when Bearer Uplink Throughput r...  \n",
       "23  Duration ratio when Bearer Uplink Throughput r...  \n",
       "24  Duration ratio when Bearer Uplink Throughput > ….  "
      ]
     },
     "execution_count": 20,
     "metadata": {},
     "output_type": "execute_result"
    }
   ],
   "source": [
    "fl_descp[fl_descp['Fields'].apply(lambda x: (x in DL_columns) | (x in UL_columns))]"
   ]
  },
  {
   "cell_type": "code",
   "execution_count": 21,
   "metadata": {},
   "outputs": [
    {
     "name": "stdout",
     "output_type": "stream",
     "text": [
      "Your selected dataframe has 43 columns.\n",
      "There are 2 columns that have missing values.\n"
     ]
    }
   ],
   "source": [
    "df_clean= df_clean.dropna(how = 'all', subset= DL_columns)\n",
    "df_clean= df_clean.dropna(how = 'all', subset= UL_columns)\n",
    "\n",
    "miss_df = clnf.missing_values_table(df_clean)"
   ]
  },
  {
   "cell_type": "code",
   "execution_count": 22,
   "metadata": {
    "scrolled": true
   },
   "outputs": [
    {
     "name": "stdout",
     "output_type": "stream",
     "text": [
      "Your selected dataframe has 43 columns.\n",
      "There are 0 columns that have missing values.\n"
     ]
    },
    {
     "data": {
      "text/html": [
       "<div>\n",
       "<style scoped>\n",
       "    .dataframe tbody tr th:only-of-type {\n",
       "        vertical-align: middle;\n",
       "    }\n",
       "\n",
       "    .dataframe tbody tr th {\n",
       "        vertical-align: top;\n",
       "    }\n",
       "\n",
       "    .dataframe thead th {\n",
       "        text-align: right;\n",
       "    }\n",
       "</style>\n",
       "<table border=\"1\" class=\"dataframe\">\n",
       "  <thead>\n",
       "    <tr style=\"text-align: right;\">\n",
       "      <th></th>\n",
       "      <th>Missing Values</th>\n",
       "      <th>% of Total Values</th>\n",
       "      <th>Dtype</th>\n",
       "    </tr>\n",
       "  </thead>\n",
       "  <tbody>\n",
       "  </tbody>\n",
       "</table>\n",
       "</div>"
      ],
      "text/plain": [
       "Empty DataFrame\n",
       "Columns: [Missing Values, % of Total Values, Dtype]\n",
       "Index: []"
      ]
     },
     "execution_count": 22,
     "metadata": {},
     "output_type": "execute_result"
    }
   ],
   "source": [
    "df_clean= df_clean.dropna(subset= ['Nb of sec with Vol DL < 6250B', 'Nb of sec with Vol UL < 1250B'])\n",
    "\n",
    "miss_df = clnf.missing_values_table(df_clean)\n",
    "miss_df"
   ]
  },
  {
   "cell_type": "markdown",
   "metadata": {},
   "source": [
    "Finally we change the data type in columns 'Start' and 'End' to datetime"
   ]
  },
  {
   "cell_type": "code",
   "execution_count": 23,
   "metadata": {},
   "outputs": [],
   "source": [
    "df_clean['Start']= pd.to_datetime(df_clean['Start'])"
   ]
  },
  {
   "cell_type": "code",
   "execution_count": 24,
   "metadata": {},
   "outputs": [],
   "source": [
    "df_clean['End']= pd.to_datetime(df_clean['End'])"
   ]
  },
  {
   "cell_type": "code",
   "execution_count": 25,
   "metadata": {},
   "outputs": [
    {
     "name": "stdout",
     "output_type": "stream",
     "text": [
      "<class 'pandas.core.frame.DataFrame'>\n",
      "Int64Index: 146891 entries, 0 to 149999\n",
      "Data columns (total 43 columns):\n",
      " #   Column                          Non-Null Count   Dtype         \n",
      "---  ------                          --------------   -----         \n",
      " 0   Bearer Id                       146891 non-null  float64       \n",
      " 1   Start                           146891 non-null  datetime64[ns]\n",
      " 2   Start ms                        146891 non-null  float64       \n",
      " 3   End                             146891 non-null  datetime64[ns]\n",
      " 4   End ms                          146891 non-null  float64       \n",
      " 5   Dur. (ms)                       146891 non-null  float64       \n",
      " 6   IMSI                            146891 non-null  float64       \n",
      " 7   MSISDN/Number                   146891 non-null  float64       \n",
      " 8   IMEI                            146891 non-null  float64       \n",
      " 9   Last Location Name              146891 non-null  object        \n",
      " 10  Avg Bearer TP DL (kbps)         146891 non-null  float64       \n",
      " 11  Avg Bearer TP UL (kbps)         146891 non-null  float64       \n",
      " 12  DL TP < 50 Kbps (%)             146891 non-null  float64       \n",
      " 13  50 Kbps < DL TP < 250 Kbps (%)  146891 non-null  float64       \n",
      " 14  250 Kbps < DL TP < 1 Mbps (%)   146891 non-null  float64       \n",
      " 15  DL TP > 1 Mbps (%)              146891 non-null  float64       \n",
      " 16  UL TP < 10 Kbps (%)             146891 non-null  float64       \n",
      " 17  10 Kbps < UL TP < 50 Kbps (%)   146891 non-null  float64       \n",
      " 18  50 Kbps < UL TP < 300 Kbps (%)  146891 non-null  float64       \n",
      " 19  UL TP > 300 Kbps (%)            146891 non-null  float64       \n",
      " 20  Activity Duration DL (ms)       146891 non-null  float64       \n",
      " 21  Activity Duration UL (ms)       146891 non-null  float64       \n",
      " 22  Dur. (ms).1                     146891 non-null  float64       \n",
      " 23  Handset Manufacturer            146891 non-null  object        \n",
      " 24  Handset Type                    146891 non-null  object        \n",
      " 25  Nb of sec with Vol DL < 6250B   146891 non-null  float64       \n",
      " 26  Nb of sec with Vol UL < 1250B   146891 non-null  float64       \n",
      " 27  Social Media DL (Bytes)         146891 non-null  float64       \n",
      " 28  Social Media UL (Bytes)         146891 non-null  float64       \n",
      " 29  Google DL (Bytes)               146891 non-null  float64       \n",
      " 30  Google UL (Bytes)               146891 non-null  float64       \n",
      " 31  Email DL (Bytes)                146891 non-null  float64       \n",
      " 32  Email UL (Bytes)                146891 non-null  float64       \n",
      " 33  Youtube DL (Bytes)              146891 non-null  float64       \n",
      " 34  Youtube UL (Bytes)              146891 non-null  float64       \n",
      " 35  Netflix DL (Bytes)              146891 non-null  float64       \n",
      " 36  Netflix UL (Bytes)              146891 non-null  float64       \n",
      " 37  Gaming DL (Bytes)               146891 non-null  float64       \n",
      " 38  Gaming UL (Bytes)               146891 non-null  float64       \n",
      " 39  Other DL (Bytes)                146891 non-null  float64       \n",
      " 40  Other UL (Bytes)                146891 non-null  float64       \n",
      " 41  Total UL (Bytes)                146891 non-null  float64       \n",
      " 42  Total DL (Bytes)                146891 non-null  float64       \n",
      "dtypes: datetime64[ns](2), float64(38), object(3)\n",
      "memory usage: 49.3+ MB\n"
     ]
    }
   ],
   "source": [
    "df_clean.info()"
   ]
  },
  {
   "cell_type": "markdown",
   "metadata": {},
   "source": [
    "# Exploring The Data"
   ]
  },
  {
   "cell_type": "markdown",
   "metadata": {},
   "source": [
    "## Univariate Summary Statistics"
   ]
  },
  {
   "cell_type": "code",
   "execution_count": 26,
   "metadata": {},
   "outputs": [],
   "source": [
    "identity_cols = ['MSISDN/Number','IMSI', 'IMEI', 'Bearer Id']"
   ]
  },
  {
   "cell_type": "code",
   "execution_count": 27,
   "metadata": {},
   "outputs": [
    {
     "data": {
      "text/html": [
       "<div>\n",
       "<style scoped>\n",
       "    .dataframe tbody tr th:only-of-type {\n",
       "        vertical-align: middle;\n",
       "    }\n",
       "\n",
       "    .dataframe tbody tr th {\n",
       "        vertical-align: top;\n",
       "    }\n",
       "\n",
       "    .dataframe thead th {\n",
       "        text-align: right;\n",
       "    }\n",
       "</style>\n",
       "<table border=\"1\" class=\"dataframe\">\n",
       "  <thead>\n",
       "    <tr style=\"text-align: right;\">\n",
       "      <th></th>\n",
       "      <th>Start ms</th>\n",
       "      <th>End ms</th>\n",
       "      <th>Dur. (ms)</th>\n",
       "      <th>Avg Bearer TP DL (kbps)</th>\n",
       "      <th>Avg Bearer TP UL (kbps)</th>\n",
       "      <th>DL TP &lt; 50 Kbps (%)</th>\n",
       "      <th>50 Kbps &lt; DL TP &lt; 250 Kbps (%)</th>\n",
       "      <th>250 Kbps &lt; DL TP &lt; 1 Mbps (%)</th>\n",
       "      <th>DL TP &gt; 1 Mbps (%)</th>\n",
       "      <th>UL TP &lt; 10 Kbps (%)</th>\n",
       "      <th>...</th>\n",
       "      <th>Youtube DL (Bytes)</th>\n",
       "      <th>Youtube UL (Bytes)</th>\n",
       "      <th>Netflix DL (Bytes)</th>\n",
       "      <th>Netflix UL (Bytes)</th>\n",
       "      <th>Gaming DL (Bytes)</th>\n",
       "      <th>Gaming UL (Bytes)</th>\n",
       "      <th>Other DL (Bytes)</th>\n",
       "      <th>Other UL (Bytes)</th>\n",
       "      <th>Total UL (Bytes)</th>\n",
       "      <th>Total DL (Bytes)</th>\n",
       "    </tr>\n",
       "  </thead>\n",
       "  <tbody>\n",
       "    <tr>\n",
       "      <th>count</th>\n",
       "      <td>146,891.00</td>\n",
       "      <td>146,891.00</td>\n",
       "      <td>146,891.00</td>\n",
       "      <td>146,891.00</td>\n",
       "      <td>146,891.00</td>\n",
       "      <td>146,891.00</td>\n",
       "      <td>146,891.00</td>\n",
       "      <td>146,891.00</td>\n",
       "      <td>146,891.00</td>\n",
       "      <td>146,891.00</td>\n",
       "      <td>...</td>\n",
       "      <td>146,891.00</td>\n",
       "      <td>146,891.00</td>\n",
       "      <td>146,891.00</td>\n",
       "      <td>146,891.00</td>\n",
       "      <td>146,891.00</td>\n",
       "      <td>146,891.00</td>\n",
       "      <td>146,891.00</td>\n",
       "      <td>146,891.00</td>\n",
       "      <td>146,891.00</td>\n",
       "      <td>146,891.00</td>\n",
       "    </tr>\n",
       "    <tr>\n",
       "      <th>mean</th>\n",
       "      <td>499.12</td>\n",
       "      <td>498.65</td>\n",
       "      <td>105,229.88</td>\n",
       "      <td>13,419.46</td>\n",
       "      <td>1,788.19</td>\n",
       "      <td>92.84</td>\n",
       "      <td>3.06</td>\n",
       "      <td>1.72</td>\n",
       "      <td>1.62</td>\n",
       "      <td>98.53</td>\n",
       "      <td>...</td>\n",
       "      <td>11,633,408.21</td>\n",
       "      <td>11,008,581.77</td>\n",
       "      <td>11,626,495.90</td>\n",
       "      <td>11,002,864.13</td>\n",
       "      <td>422,064,869.09</td>\n",
       "      <td>8,290,257.38</td>\n",
       "      <td>421,003,785.43</td>\n",
       "      <td>8,262,886.76</td>\n",
       "      <td>41,121,388.14</td>\n",
       "      <td>454,662,771.11</td>\n",
       "    </tr>\n",
       "    <tr>\n",
       "      <th>std</th>\n",
       "      <td>288.55</td>\n",
       "      <td>288.07</td>\n",
       "      <td>80,924.46</td>\n",
       "      <td>24,081.55</td>\n",
       "      <td>4,650.56</td>\n",
       "      <td>13.05</td>\n",
       "      <td>6.21</td>\n",
       "      <td>4.16</td>\n",
       "      <td>4.84</td>\n",
       "      <td>4.64</td>\n",
       "      <td>...</td>\n",
       "      <td>6,710,449.58</td>\n",
       "      <td>6,345,242.99</td>\n",
       "      <td>6,724,904.22</td>\n",
       "      <td>6,357,359.12</td>\n",
       "      <td>244,038,111.10</td>\n",
       "      <td>4,781,553.38</td>\n",
       "      <td>243,144,814.59</td>\n",
       "      <td>4,768,594.39</td>\n",
       "      <td>11,277,746.36</td>\n",
       "      <td>244,207,953.12</td>\n",
       "    </tr>\n",
       "    <tr>\n",
       "      <th>min</th>\n",
       "      <td>0.00</td>\n",
       "      <td>0.00</td>\n",
       "      <td>7,142.00</td>\n",
       "      <td>0.00</td>\n",
       "      <td>0.00</td>\n",
       "      <td>0.00</td>\n",
       "      <td>0.00</td>\n",
       "      <td>0.00</td>\n",
       "      <td>0.00</td>\n",
       "      <td>0.00</td>\n",
       "      <td>...</td>\n",
       "      <td>53.00</td>\n",
       "      <td>105.00</td>\n",
       "      <td>42.00</td>\n",
       "      <td>35.00</td>\n",
       "      <td>2,516.00</td>\n",
       "      <td>59.00</td>\n",
       "      <td>3,290.00</td>\n",
       "      <td>148.00</td>\n",
       "      <td>2,866,892.00</td>\n",
       "      <td>7,114,041.00</td>\n",
       "    </tr>\n",
       "    <tr>\n",
       "      <th>25%</th>\n",
       "      <td>250.00</td>\n",
       "      <td>251.00</td>\n",
       "      <td>58,527.00</td>\n",
       "      <td>43.00</td>\n",
       "      <td>47.00</td>\n",
       "      <td>91.00</td>\n",
       "      <td>0.00</td>\n",
       "      <td>0.00</td>\n",
       "      <td>0.00</td>\n",
       "      <td>99.00</td>\n",
       "      <td>...</td>\n",
       "      <td>5,833,512.50</td>\n",
       "      <td>5,516,549.00</td>\n",
       "      <td>5,776,625.50</td>\n",
       "      <td>5,480,202.00</td>\n",
       "      <td>210,394,124.50</td>\n",
       "      <td>4,132,622.00</td>\n",
       "      <td>210,152,719.00</td>\n",
       "      <td>4,144,489.00</td>\n",
       "      <td>33,218,346.00</td>\n",
       "      <td>243,076,657.00</td>\n",
       "    </tr>\n",
       "    <tr>\n",
       "      <th>50%</th>\n",
       "      <td>499.00</td>\n",
       "      <td>500.00</td>\n",
       "      <td>86,399.00</td>\n",
       "      <td>64.00</td>\n",
       "      <td>63.00</td>\n",
       "      <td>100.00</td>\n",
       "      <td>0.00</td>\n",
       "      <td>0.00</td>\n",
       "      <td>0.00</td>\n",
       "      <td>100.00</td>\n",
       "      <td>...</td>\n",
       "      <td>11,616,383.00</td>\n",
       "      <td>11,013,286.00</td>\n",
       "      <td>11,642,708.00</td>\n",
       "      <td>10,999,393.00</td>\n",
       "      <td>423,492,944.00</td>\n",
       "      <td>8,294,516.00</td>\n",
       "      <td>421,633,232.00</td>\n",
       "      <td>8,265,817.00</td>\n",
       "      <td>41,142,534.00</td>\n",
       "      <td>455,970,194.00</td>\n",
       "    </tr>\n",
       "    <tr>\n",
       "      <th>75%</th>\n",
       "      <td>749.00</td>\n",
       "      <td>750.00</td>\n",
       "      <td>133,154.50</td>\n",
       "      <td>20,023.50</td>\n",
       "      <td>1,136.00</td>\n",
       "      <td>100.00</td>\n",
       "      <td>4.00</td>\n",
       "      <td>1.00</td>\n",
       "      <td>0.00</td>\n",
       "      <td>100.00</td>\n",
       "      <td>...</td>\n",
       "      <td>17,440,635.50</td>\n",
       "      <td>16,514,112.00</td>\n",
       "      <td>17,470,165.50</td>\n",
       "      <td>16,503,522.50</td>\n",
       "      <td>633,330,072.50</td>\n",
       "      <td>12,432,390.50</td>\n",
       "      <td>631,368,280.50</td>\n",
       "      <td>12,382,039.50</td>\n",
       "      <td>49,034,880.00</td>\n",
       "      <td>665,783,068.00</td>\n",
       "    </tr>\n",
       "    <tr>\n",
       "      <th>max</th>\n",
       "      <td>999.00</td>\n",
       "      <td>999.00</td>\n",
       "      <td>1,859,336.00</td>\n",
       "      <td>378,160.00</td>\n",
       "      <td>58,613.00</td>\n",
       "      <td>100.00</td>\n",
       "      <td>93.00</td>\n",
       "      <td>76.00</td>\n",
       "      <td>94.00</td>\n",
       "      <td>100.00</td>\n",
       "      <td>...</td>\n",
       "      <td>23,259,098.00</td>\n",
       "      <td>22,011,962.00</td>\n",
       "      <td>23,259,189.00</td>\n",
       "      <td>22,011,955.00</td>\n",
       "      <td>843,441,889.00</td>\n",
       "      <td>16,558,794.00</td>\n",
       "      <td>843,442,489.00</td>\n",
       "      <td>16,558,816.00</td>\n",
       "      <td>78,331,311.00</td>\n",
       "      <td>902,969,616.00</td>\n",
       "    </tr>\n",
       "  </tbody>\n",
       "</table>\n",
       "<p>8 rows × 34 columns</p>\n",
       "</div>"
      ],
      "text/plain": [
       "        Start ms     End ms    Dur. (ms)  Avg Bearer TP DL (kbps)  \\\n",
       "count 146,891.00 146,891.00   146,891.00               146,891.00   \n",
       "mean      499.12     498.65   105,229.88                13,419.46   \n",
       "std       288.55     288.07    80,924.46                24,081.55   \n",
       "min         0.00       0.00     7,142.00                     0.00   \n",
       "25%       250.00     251.00    58,527.00                    43.00   \n",
       "50%       499.00     500.00    86,399.00                    64.00   \n",
       "75%       749.00     750.00   133,154.50                20,023.50   \n",
       "max       999.00     999.00 1,859,336.00               378,160.00   \n",
       "\n",
       "       Avg Bearer TP UL (kbps)  DL TP < 50 Kbps (%)  \\\n",
       "count               146,891.00           146,891.00   \n",
       "mean                  1,788.19                92.84   \n",
       "std                   4,650.56                13.05   \n",
       "min                       0.00                 0.00   \n",
       "25%                      47.00                91.00   \n",
       "50%                      63.00               100.00   \n",
       "75%                   1,136.00               100.00   \n",
       "max                  58,613.00               100.00   \n",
       "\n",
       "       50 Kbps < DL TP < 250 Kbps (%)  250 Kbps < DL TP < 1 Mbps (%)  \\\n",
       "count                      146,891.00                     146,891.00   \n",
       "mean                             3.06                           1.72   \n",
       "std                              6.21                           4.16   \n",
       "min                              0.00                           0.00   \n",
       "25%                              0.00                           0.00   \n",
       "50%                              0.00                           0.00   \n",
       "75%                              4.00                           1.00   \n",
       "max                             93.00                          76.00   \n",
       "\n",
       "       DL TP > 1 Mbps (%)  UL TP < 10 Kbps (%)  ...  Youtube DL (Bytes)  \\\n",
       "count          146,891.00           146,891.00  ...          146,891.00   \n",
       "mean                 1.62                98.53  ...       11,633,408.21   \n",
       "std                  4.84                 4.64  ...        6,710,449.58   \n",
       "min                  0.00                 0.00  ...               53.00   \n",
       "25%                  0.00                99.00  ...        5,833,512.50   \n",
       "50%                  0.00               100.00  ...       11,616,383.00   \n",
       "75%                  0.00               100.00  ...       17,440,635.50   \n",
       "max                 94.00               100.00  ...       23,259,098.00   \n",
       "\n",
       "       Youtube UL (Bytes)  Netflix DL (Bytes)  Netflix UL (Bytes)  \\\n",
       "count          146,891.00          146,891.00          146,891.00   \n",
       "mean        11,008,581.77       11,626,495.90       11,002,864.13   \n",
       "std          6,345,242.99        6,724,904.22        6,357,359.12   \n",
       "min                105.00               42.00               35.00   \n",
       "25%          5,516,549.00        5,776,625.50        5,480,202.00   \n",
       "50%         11,013,286.00       11,642,708.00       10,999,393.00   \n",
       "75%         16,514,112.00       17,470,165.50       16,503,522.50   \n",
       "max         22,011,962.00       23,259,189.00       22,011,955.00   \n",
       "\n",
       "       Gaming DL (Bytes)  Gaming UL (Bytes)  Other DL (Bytes)  \\\n",
       "count         146,891.00         146,891.00        146,891.00   \n",
       "mean      422,064,869.09       8,290,257.38    421,003,785.43   \n",
       "std       244,038,111.10       4,781,553.38    243,144,814.59   \n",
       "min             2,516.00              59.00          3,290.00   \n",
       "25%       210,394,124.50       4,132,622.00    210,152,719.00   \n",
       "50%       423,492,944.00       8,294,516.00    421,633,232.00   \n",
       "75%       633,330,072.50      12,432,390.50    631,368,280.50   \n",
       "max       843,441,889.00      16,558,794.00    843,442,489.00   \n",
       "\n",
       "       Other UL (Bytes)  Total UL (Bytes)  Total DL (Bytes)  \n",
       "count        146,891.00        146,891.00        146,891.00  \n",
       "mean       8,262,886.76     41,121,388.14    454,662,771.11  \n",
       "std        4,768,594.39     11,277,746.36    244,207,953.12  \n",
       "min              148.00      2,866,892.00      7,114,041.00  \n",
       "25%        4,144,489.00     33,218,346.00    243,076,657.00  \n",
       "50%        8,265,817.00     41,142,534.00    455,970,194.00  \n",
       "75%       12,382,039.50     49,034,880.00    665,783,068.00  \n",
       "max       16,558,816.00     78,331,311.00    902,969,616.00  \n",
       "\n",
       "[8 rows x 34 columns]"
      ]
     },
     "execution_count": 27,
     "metadata": {},
     "output_type": "execute_result"
    }
   ],
   "source": [
    "df_clean.drop(identity_cols, axis=1).describe()"
   ]
  },
  {
   "cell_type": "code",
   "execution_count": 28,
   "metadata": {},
   "outputs": [
    {
     "data": {
      "text/html": [
       "<div>\n",
       "<style scoped>\n",
       "    .dataframe tbody tr th:only-of-type {\n",
       "        vertical-align: middle;\n",
       "    }\n",
       "\n",
       "    .dataframe tbody tr th {\n",
       "        vertical-align: top;\n",
       "    }\n",
       "\n",
       "    .dataframe thead th {\n",
       "        text-align: right;\n",
       "    }\n",
       "</style>\n",
       "<table border=\"1\" class=\"dataframe\">\n",
       "  <thead>\n",
       "    <tr style=\"text-align: right;\">\n",
       "      <th></th>\n",
       "      <th>Handset Type</th>\n",
       "      <th>Handset Manufacturer</th>\n",
       "      <th>Last Location Name</th>\n",
       "    </tr>\n",
       "  </thead>\n",
       "  <tbody>\n",
       "    <tr>\n",
       "      <th>count</th>\n",
       "      <td>146891</td>\n",
       "      <td>146891</td>\n",
       "      <td>146891</td>\n",
       "    </tr>\n",
       "    <tr>\n",
       "      <th>unique</th>\n",
       "      <td>1363</td>\n",
       "      <td>168</td>\n",
       "      <td>45084</td>\n",
       "    </tr>\n",
       "    <tr>\n",
       "      <th>top</th>\n",
       "      <td>Huawei B528S-23A</td>\n",
       "      <td>Apple</td>\n",
       "      <td>D41377B</td>\n",
       "    </tr>\n",
       "    <tr>\n",
       "      <th>freq</th>\n",
       "      <td>19373</td>\n",
       "      <td>59072</td>\n",
       "      <td>80</td>\n",
       "    </tr>\n",
       "  </tbody>\n",
       "</table>\n",
       "</div>"
      ],
      "text/plain": [
       "            Handset Type Handset Manufacturer Last Location Name\n",
       "count             146891               146891             146891\n",
       "unique              1363                  168              45084\n",
       "top     Huawei B528S-23A                Apple            D41377B\n",
       "freq               19373                59072                 80"
      ]
     },
     "execution_count": 28,
     "metadata": {},
     "output_type": "execute_result"
    }
   ],
   "source": [
    "df_clean[['Handset Type', 'Handset Manufacturer', 'Last Location Name']].describe()"
   ]
  },
  {
   "cell_type": "code",
   "execution_count": 29,
   "metadata": {},
   "outputs": [
    {
     "data": {
      "text/plain": [
       "Apple                            59072\n",
       "Samsung                          39902\n",
       "Huawei                           33755\n",
       "undefined                         8820\n",
       "Sony Mobile Communications Ab      925\n",
       "Name: Handset Manufacturer, dtype: int64"
      ]
     },
     "execution_count": 29,
     "metadata": {},
     "output_type": "execute_result"
    }
   ],
   "source": [
    "# 5 Top Handset Manufacturers\n",
    "\n",
    "df_clean['Handset Manufacturer'].value_counts().head(5)"
   ]
  },
  {
   "cell_type": "code",
   "execution_count": 30,
   "metadata": {
    "scrolled": true
   },
   "outputs": [
    {
     "data": {
      "text/plain": [
       "Huawei B528S-23A           19373\n",
       "Apple iPhone 6S (A1688)     9369\n",
       "Apple iPhone 6 (A1586)      8967\n",
       "undefined                   8820\n",
       "Apple iPhone 7 (A1778)      6240\n",
       "Name: Handset Type, dtype: int64"
      ]
     },
     "execution_count": 30,
     "metadata": {},
     "output_type": "execute_result"
    }
   ],
   "source": [
    "# 5 Top Handset Types\n",
    "\n",
    "df_clean['Handset Type'].value_counts().head(5)"
   ]
  },
  {
   "cell_type": "markdown",
   "metadata": {},
   "source": [
    "### Top 10 handsets used by the customers."
   ]
  },
  {
   "cell_type": "code",
   "execution_count": 31,
   "metadata": {
    "scrolled": false
   },
   "outputs": [
    {
     "data": {
      "text/plain": [
       "Huawei B528S-23A                19373\n",
       "Apple iPhone 6S (A1688)          9369\n",
       "Apple iPhone 6 (A1586)           8967\n",
       "undefined                        8820\n",
       "Apple iPhone 7 (A1778)           6240\n",
       "Apple iPhone Se (A1723)          5151\n",
       "Apple iPhone 8 (A1905)           4961\n",
       "Apple iPhone Xr (A2105)          4542\n",
       "Samsung Galaxy S8 (Sm-G950F)     4404\n",
       "Apple iPhone X (A1901)           3788\n",
       "Name: Handset Type, dtype: int64"
      ]
     },
     "execution_count": 31,
     "metadata": {},
     "output_type": "execute_result"
    }
   ],
   "source": [
    "df_clean['Handset Type'].value_counts().head(10)"
   ]
  },
  {
   "cell_type": "code",
   "execution_count": 32,
   "metadata": {},
   "outputs": [
    {
     "name": "stdout",
     "output_type": "stream",
     "text": [
      "The top 10 handsets used by customers are:\n",
      "1. Huawei B528S-23A\n",
      "2. Apple iPhone 6S (A1688)\n",
      "3. Apple iPhone 6 (A1586)\n",
      "4. undefined\n",
      "5. Apple iPhone 7 (A1778)\n",
      "6. Apple iPhone Se (A1723)\n",
      "7. Apple iPhone 8 (A1905)\n",
      "8. Apple iPhone Xr (A2105)\n",
      "9. Samsung Galaxy S8 (Sm-G950F)\n",
      "10. Apple iPhone X (A1901)\n"
     ]
    }
   ],
   "source": [
    "top_handsets = df_clean['Handset Type'].value_counts().head(10).index.to_list()\n",
    "print('The top 10 handsets used by customers are:')\n",
    "for i, x in enumerate(top_handsets):\n",
    "    print(\"{}. {}\".format(i+1, x))"
   ]
  },
  {
   "cell_type": "markdown",
   "metadata": {},
   "source": [
    "### The top 3 handset manufacturers"
   ]
  },
  {
   "cell_type": "code",
   "execution_count": 33,
   "metadata": {
    "scrolled": false
   },
   "outputs": [
    {
     "data": {
      "text/plain": [
       "Apple      59072\n",
       "Samsung    39902\n",
       "Huawei     33755\n",
       "Name: Handset Manufacturer, dtype: int64"
      ]
     },
     "execution_count": 33,
     "metadata": {},
     "output_type": "execute_result"
    }
   ],
   "source": [
    "df_clean['Handset Manufacturer'].value_counts().head(3)"
   ]
  },
  {
   "cell_type": "code",
   "execution_count": 34,
   "metadata": {},
   "outputs": [
    {
     "name": "stdout",
     "output_type": "stream",
     "text": [
      "The top 3 handset manufacturers:\n",
      "1. Apple\n",
      "2. Samsung\n",
      "3. Huawei\n"
     ]
    }
   ],
   "source": [
    "top_manufc = df_clean['Handset Manufacturer'].value_counts().head(3).index.to_list()\n",
    "\n",
    "print('The top 3 handset manufacturers:')\n",
    "for i, x in enumerate(top_manufc):\n",
    "    print(\"{}. {}\".format(i+1, x))"
   ]
  },
  {
   "cell_type": "markdown",
   "metadata": {},
   "source": [
    "### The top 5 handsets per top 3 handset manufacturer"
   ]
  },
  {
   "cell_type": "code",
   "execution_count": 35,
   "metadata": {},
   "outputs": [
    {
     "name": "stdout",
     "output_type": "stream",
     "text": [
      "Top handsets by Apple:\n",
      "  1. Apple iPhone 6S (A1688)\n",
      "  2. Apple iPhone 6 (A1586)\n",
      "  3. Apple iPhone 7 (A1778)\n",
      "  4. Apple iPhone Se (A1723)\n",
      "  5. Apple iPhone 8 (A1905)\n",
      "\n",
      "\n",
      "Top handsets by Samsung:\n",
      "  1. Samsung Galaxy S8 (Sm-G950F)\n",
      "  2. Samsung Galaxy A5 Sm-A520F\n",
      "  3. Samsung Galaxy J5 (Sm-J530)\n",
      "  4. Samsung Galaxy J3 (Sm-J330)\n",
      "  5. Samsung Galaxy S7 (Sm-G930X)\n",
      "\n",
      "\n",
      "Top handsets by Huawei:\n",
      "  1. Huawei B528S-23A\n",
      "  2. Huawei E5180\n",
      "  3. Huawei P20 Lite Huawei Nova 3E\n",
      "  4. Huawei P20\n",
      "  5. Huawei Y6 2018\n",
      "\n",
      "\n"
     ]
    }
   ],
   "source": [
    "for x in top_manufc:\n",
    "    print('Top handsets by {}:'.format(x))\n",
    "    top = df_clean[df_clean['Handset Manufacturer']==x]['Handset Type'].value_counts().head().index.to_list()\n",
    "    \n",
    "    for i in range(min(5, len(top))):\n",
    "        print('  {}. {}'.format(i+1, top[i]))\n",
    "    print('\\n')"
   ]
  },
  {
   "cell_type": "markdown",
   "metadata": {},
   "source": [
    "## Aggregate Data Per User\n",
    "\n",
    "We choose to identify user by their phone numbers (MSISDN/Number)"
   ]
  },
  {
   "cell_type": "markdown",
   "metadata": {},
   "source": [
    "### 1. number of xDR sessions per user"
   ]
  },
  {
   "cell_type": "code",
   "execution_count": 36,
   "metadata": {},
   "outputs": [],
   "source": [
    "num_sessions_user = clnf.find_agg(df_clean, 'MSISDN/Number', 'count', 'Bearer Id')"
   ]
  },
  {
   "cell_type": "code",
   "execution_count": 37,
   "metadata": {},
   "outputs": [
    {
     "data": {
      "text/html": [
       "<div>\n",
       "<style scoped>\n",
       "    .dataframe tbody tr th:only-of-type {\n",
       "        vertical-align: middle;\n",
       "    }\n",
       "\n",
       "    .dataframe tbody tr th {\n",
       "        vertical-align: top;\n",
       "    }\n",
       "\n",
       "    .dataframe thead th {\n",
       "        text-align: right;\n",
       "    }\n",
       "</style>\n",
       "<table border=\"1\" class=\"dataframe\">\n",
       "  <thead>\n",
       "    <tr style=\"text-align: right;\">\n",
       "      <th></th>\n",
       "      <th>MSISDN/Number</th>\n",
       "      <th>Bearer Id</th>\n",
       "    </tr>\n",
       "  </thead>\n",
       "  <tbody>\n",
       "    <tr>\n",
       "      <th>13381</th>\n",
       "      <td>33,626,320,676.00</td>\n",
       "      <td>18</td>\n",
       "    </tr>\n",
       "    <tr>\n",
       "      <th>6353</th>\n",
       "      <td>33,614,892,860.00</td>\n",
       "      <td>17</td>\n",
       "    </tr>\n",
       "    <tr>\n",
       "      <th>13037</th>\n",
       "      <td>33,625,779,332.00</td>\n",
       "      <td>17</td>\n",
       "    </tr>\n",
       "    <tr>\n",
       "      <th>36669</th>\n",
       "      <td>33,659,725,664.00</td>\n",
       "      <td>16</td>\n",
       "    </tr>\n",
       "    <tr>\n",
       "      <th>75564</th>\n",
       "      <td>33,675,877,202.00</td>\n",
       "      <td>15</td>\n",
       "    </tr>\n",
       "  </tbody>\n",
       "</table>\n",
       "</div>"
      ],
      "text/plain": [
       "          MSISDN/Number  Bearer Id\n",
       "13381 33,626,320,676.00         18\n",
       "6353  33,614,892,860.00         17\n",
       "13037 33,625,779,332.00         17\n",
       "36669 33,659,725,664.00         16\n",
       "75564 33,675,877,202.00         15"
      ]
     },
     "execution_count": 37,
     "metadata": {},
     "output_type": "execute_result"
    }
   ],
   "source": [
    "num_sessions_user.head(5)"
   ]
  },
  {
   "cell_type": "code",
   "execution_count": 38,
   "metadata": {},
   "outputs": [
    {
     "data": {
      "text/plain": [
       "105719"
      ]
     },
     "execution_count": 38,
     "metadata": {},
     "output_type": "execute_result"
    }
   ],
   "source": [
    "df_clean['MSISDN/Number'].nunique()"
   ]
  },
  {
   "cell_type": "markdown",
   "metadata": {},
   "source": [
    "### 2. Session duration Per user"
   ]
  },
  {
   "cell_type": "code",
   "execution_count": 39,
   "metadata": {},
   "outputs": [
    {
     "data": {
      "text/html": [
       "<div>\n",
       "<style scoped>\n",
       "    .dataframe tbody tr th:only-of-type {\n",
       "        vertical-align: middle;\n",
       "    }\n",
       "\n",
       "    .dataframe tbody tr th {\n",
       "        vertical-align: top;\n",
       "    }\n",
       "\n",
       "    .dataframe thead th {\n",
       "        text-align: right;\n",
       "    }\n",
       "</style>\n",
       "<table border=\"1\" class=\"dataframe\">\n",
       "  <thead>\n",
       "    <tr style=\"text-align: right;\">\n",
       "      <th></th>\n",
       "      <th>MSISDN/Number</th>\n",
       "      <th>Dur. (ms)</th>\n",
       "    </tr>\n",
       "  </thead>\n",
       "  <tbody>\n",
       "    <tr>\n",
       "      <th>13037</th>\n",
       "      <td>33,625,779,332.00</td>\n",
       "      <td>18,553,754.00</td>\n",
       "    </tr>\n",
       "    <tr>\n",
       "      <th>6353</th>\n",
       "      <td>33,614,892,860.00</td>\n",
       "      <td>9,966,898.00</td>\n",
       "    </tr>\n",
       "    <tr>\n",
       "      <th>91949</th>\n",
       "      <td>33,760,536,639.00</td>\n",
       "      <td>9,279,434.00</td>\n",
       "    </tr>\n",
       "    <tr>\n",
       "      <th>13381</th>\n",
       "      <td>33,626,320,676.00</td>\n",
       "      <td>8,791,927.00</td>\n",
       "    </tr>\n",
       "    <tr>\n",
       "      <th>64472</th>\n",
       "      <td>33,667,163,239.00</td>\n",
       "      <td>8,744,914.00</td>\n",
       "    </tr>\n",
       "  </tbody>\n",
       "</table>\n",
       "</div>"
      ],
      "text/plain": [
       "          MSISDN/Number     Dur. (ms)\n",
       "13037 33,625,779,332.00 18,553,754.00\n",
       "6353  33,614,892,860.00  9,966,898.00\n",
       "91949 33,760,536,639.00  9,279,434.00\n",
       "13381 33,626,320,676.00  8,791,927.00\n",
       "64472 33,667,163,239.00  8,744,914.00"
      ]
     },
     "execution_count": 39,
     "metadata": {},
     "output_type": "execute_result"
    }
   ],
   "source": [
    "session_dur_user = clnf.find_agg(df_clean, 'MSISDN/Number', 'sum', 'Dur. (ms)')\n",
    "session_dur_user.head(5)"
   ]
  },
  {
   "cell_type": "markdown",
   "metadata": {},
   "source": [
    "### 3. the total download (DL) and upload (UL) data Per User"
   ]
  },
  {
   "cell_type": "code",
   "execution_count": 40,
   "metadata": {},
   "outputs": [
    {
     "data": {
      "text/html": [
       "<div>\n",
       "<style scoped>\n",
       "    .dataframe tbody tr th:only-of-type {\n",
       "        vertical-align: middle;\n",
       "    }\n",
       "\n",
       "    .dataframe tbody tr th {\n",
       "        vertical-align: top;\n",
       "    }\n",
       "\n",
       "    .dataframe thead th {\n",
       "        text-align: right;\n",
       "    }\n",
       "</style>\n",
       "<table border=\"1\" class=\"dataframe\">\n",
       "  <thead>\n",
       "    <tr style=\"text-align: right;\">\n",
       "      <th></th>\n",
       "      <th>Total DL (Bytes)</th>\n",
       "      <th>Total UL (Bytes)</th>\n",
       "    </tr>\n",
       "    <tr>\n",
       "      <th>MSISDN/Number</th>\n",
       "      <th></th>\n",
       "      <th></th>\n",
       "    </tr>\n",
       "  </thead>\n",
       "  <tbody>\n",
       "    <tr>\n",
       "      <th>33,601,001,722.00</th>\n",
       "      <td>842,637,466.00</td>\n",
       "      <td>36,053,108.00</td>\n",
       "    </tr>\n",
       "    <tr>\n",
       "      <th>33,601,001,754.00</th>\n",
       "      <td>120,755,184.00</td>\n",
       "      <td>36,104,459.00</td>\n",
       "    </tr>\n",
       "    <tr>\n",
       "      <th>33,601,002,511.00</th>\n",
       "      <td>556,659,663.00</td>\n",
       "      <td>39,306,820.00</td>\n",
       "    </tr>\n",
       "    <tr>\n",
       "      <th>33,601,007,832.00</th>\n",
       "      <td>401,993,172.00</td>\n",
       "      <td>20,327,526.00</td>\n",
       "    </tr>\n",
       "    <tr>\n",
       "      <th>33,601,008,617.00</th>\n",
       "      <td>1,363,130,417.00</td>\n",
       "      <td>94,280,527.00</td>\n",
       "    </tr>\n",
       "  </tbody>\n",
       "</table>\n",
       "</div>"
      ],
      "text/plain": [
       "                   Total DL (Bytes)  Total UL (Bytes)\n",
       "MSISDN/Number                                        \n",
       "33,601,001,722.00    842,637,466.00     36,053,108.00\n",
       "33,601,001,754.00    120,755,184.00     36,104,459.00\n",
       "33,601,002,511.00    556,659,663.00     39,306,820.00\n",
       "33,601,007,832.00    401,993,172.00     20,327,526.00\n",
       "33,601,008,617.00  1,363,130,417.00     94,280,527.00"
      ]
     },
     "execution_count": 40,
     "metadata": {},
     "output_type": "execute_result"
    }
   ],
   "source": [
    "total_download_user = df_clean.groupby('MSISDN/Number')[['Total DL (Bytes)', 'Total UL (Bytes)']].sum()\n",
    "total_download_user.head(5)"
   ]
  },
  {
   "cell_type": "markdown",
   "metadata": {},
   "source": [
    "### 4. the total data volume (in Bytes) during this session for each application"
   ]
  },
  {
   "cell_type": "code",
   "execution_count": 41,
   "metadata": {
    "scrolled": false
   },
   "outputs": [
    {
     "data": {
      "text/html": [
       "<div>\n",
       "<style scoped>\n",
       "    .dataframe tbody tr th:only-of-type {\n",
       "        vertical-align: middle;\n",
       "    }\n",
       "\n",
       "    .dataframe tbody tr th {\n",
       "        vertical-align: top;\n",
       "    }\n",
       "\n",
       "    .dataframe thead th {\n",
       "        text-align: right;\n",
       "    }\n",
       "</style>\n",
       "<table border=\"1\" class=\"dataframe\">\n",
       "  <thead>\n",
       "    <tr style=\"text-align: right;\">\n",
       "      <th></th>\n",
       "      <th></th>\n",
       "      <th>Social Media DL (Bytes)</th>\n",
       "      <th>Social Media UL (Bytes)</th>\n",
       "      <th>Google DL (Bytes)</th>\n",
       "      <th>Google UL (Bytes)</th>\n",
       "      <th>Email DL (Bytes)</th>\n",
       "      <th>Email UL (Bytes)</th>\n",
       "      <th>Youtube DL (Bytes)</th>\n",
       "      <th>Youtube UL (Bytes)</th>\n",
       "      <th>Netflix DL (Bytes)</th>\n",
       "      <th>Netflix UL (Bytes)</th>\n",
       "      <th>Gaming DL (Bytes)</th>\n",
       "      <th>Gaming UL (Bytes)</th>\n",
       "      <th>Other DL (Bytes)</th>\n",
       "      <th>Other UL (Bytes)</th>\n",
       "    </tr>\n",
       "    <tr>\n",
       "      <th>MSISDN/Number</th>\n",
       "      <th>Bearer Id</th>\n",
       "      <th></th>\n",
       "      <th></th>\n",
       "      <th></th>\n",
       "      <th></th>\n",
       "      <th></th>\n",
       "      <th></th>\n",
       "      <th></th>\n",
       "      <th></th>\n",
       "      <th></th>\n",
       "      <th></th>\n",
       "      <th></th>\n",
       "      <th></th>\n",
       "      <th></th>\n",
       "      <th></th>\n",
       "    </tr>\n",
       "  </thead>\n",
       "  <tbody>\n",
       "    <tr>\n",
       "      <th>33,601,001,722.00</th>\n",
       "      <th>13,114,483,554,762,799,104.00</th>\n",
       "      <td>2,206,504.00</td>\n",
       "      <td>25,631.00</td>\n",
       "      <td>3,337,123.00</td>\n",
       "      <td>1,051,882.00</td>\n",
       "      <td>837,400.00</td>\n",
       "      <td>493,962.00</td>\n",
       "      <td>14,900,201.00</td>\n",
       "      <td>6,724,347.00</td>\n",
       "      <td>10,265,105.00</td>\n",
       "      <td>16,915,876.00</td>\n",
       "      <td>811,091,133.00</td>\n",
       "      <td>1,367,528.00</td>\n",
       "      <td>377,096,990.00</td>\n",
       "      <td>9,473,882.00</td>\n",
       "    </tr>\n",
       "    <tr>\n",
       "      <th>33,601,001,754.00</th>\n",
       "      <th>7,349,883,260,786,089,984.00</th>\n",
       "      <td>2,598,548.00</td>\n",
       "      <td>62,017.00</td>\n",
       "      <td>4,197,697.00</td>\n",
       "      <td>1,137,166.00</td>\n",
       "      <td>2,828,821.00</td>\n",
       "      <td>478,960.00</td>\n",
       "      <td>5,324,251.00</td>\n",
       "      <td>7,107,972.00</td>\n",
       "      <td>770,569.00</td>\n",
       "      <td>10,451,194.00</td>\n",
       "      <td>105,035,298.00</td>\n",
       "      <td>14,714,780.00</td>\n",
       "      <td>279,557,701.00</td>\n",
       "      <td>2,152,370.00</td>\n",
       "    </tr>\n",
       "    <tr>\n",
       "      <th>33,601,002,511.00</th>\n",
       "      <th>7,349,883,263,388,680,192.00</th>\n",
       "      <td>3,148,004.00</td>\n",
       "      <td>47,619.00</td>\n",
       "      <td>3,343,483.00</td>\n",
       "      <td>99,643.00</td>\n",
       "      <td>2,436,500.00</td>\n",
       "      <td>768,880.00</td>\n",
       "      <td>2,137,272.00</td>\n",
       "      <td>19,196,298.00</td>\n",
       "      <td>16,525,919.00</td>\n",
       "      <td>2,827,981.00</td>\n",
       "      <td>529,068,485.00</td>\n",
       "      <td>9,759,228.00</td>\n",
       "      <td>495,086,501.00</td>\n",
       "      <td>6,607,171.00</td>\n",
       "    </tr>\n",
       "    <tr>\n",
       "      <th>33,601,007,832.00</th>\n",
       "      <th>13,042,425,972,781,099,008.00</th>\n",
       "      <td>251,469.00</td>\n",
       "      <td>28,825.00</td>\n",
       "      <td>5,937,765.00</td>\n",
       "      <td>3,740,728.00</td>\n",
       "      <td>2,178,618.00</td>\n",
       "      <td>106,052.00</td>\n",
       "      <td>4,393,123.00</td>\n",
       "      <td>2,584,198.00</td>\n",
       "      <td>1,157,362.00</td>\n",
       "      <td>784,730.00</td>\n",
       "      <td>388,074,835.00</td>\n",
       "      <td>3,051,292.00</td>\n",
       "      <td>25,248,001.00</td>\n",
       "      <td>10,031,701.00</td>\n",
       "    </tr>\n",
       "    <tr>\n",
       "      <th>33,601,008,617.00</th>\n",
       "      <th>7,277,825,655,840,339,968.00</th>\n",
       "      <td>1,501,326.00</td>\n",
       "      <td>22,731.00</td>\n",
       "      <td>7,419,606.00</td>\n",
       "      <td>2,751,029.00</td>\n",
       "      <td>1,267,949.00</td>\n",
       "      <td>145,736.00</td>\n",
       "      <td>2,312,338.00</td>\n",
       "      <td>18,180,144.00</td>\n",
       "      <td>3,794,492.00</td>\n",
       "      <td>18,178,618.00</td>\n",
       "      <td>799,737,769.00</td>\n",
       "      <td>2,827,420.00</td>\n",
       "      <td>72,295,238.00</td>\n",
       "      <td>13,693,422.00</td>\n",
       "    </tr>\n",
       "  </tbody>\n",
       "</table>\n",
       "</div>"
      ],
      "text/plain": [
       "                                                 Social Media DL (Bytes)  \\\n",
       "MSISDN/Number     Bearer Id                                                \n",
       "33,601,001,722.00 13,114,483,554,762,799,104.00             2,206,504.00   \n",
       "33,601,001,754.00 7,349,883,260,786,089,984.00              2,598,548.00   \n",
       "33,601,002,511.00 7,349,883,263,388,680,192.00              3,148,004.00   \n",
       "33,601,007,832.00 13,042,425,972,781,099,008.00               251,469.00   \n",
       "33,601,008,617.00 7,277,825,655,840,339,968.00              1,501,326.00   \n",
       "\n",
       "                                                 Social Media UL (Bytes)  \\\n",
       "MSISDN/Number     Bearer Id                                                \n",
       "33,601,001,722.00 13,114,483,554,762,799,104.00                25,631.00   \n",
       "33,601,001,754.00 7,349,883,260,786,089,984.00                 62,017.00   \n",
       "33,601,002,511.00 7,349,883,263,388,680,192.00                 47,619.00   \n",
       "33,601,007,832.00 13,042,425,972,781,099,008.00                28,825.00   \n",
       "33,601,008,617.00 7,277,825,655,840,339,968.00                 22,731.00   \n",
       "\n",
       "                                                 Google DL (Bytes)  \\\n",
       "MSISDN/Number     Bearer Id                                          \n",
       "33,601,001,722.00 13,114,483,554,762,799,104.00       3,337,123.00   \n",
       "33,601,001,754.00 7,349,883,260,786,089,984.00        4,197,697.00   \n",
       "33,601,002,511.00 7,349,883,263,388,680,192.00        3,343,483.00   \n",
       "33,601,007,832.00 13,042,425,972,781,099,008.00       5,937,765.00   \n",
       "33,601,008,617.00 7,277,825,655,840,339,968.00        7,419,606.00   \n",
       "\n",
       "                                                 Google UL (Bytes)  \\\n",
       "MSISDN/Number     Bearer Id                                          \n",
       "33,601,001,722.00 13,114,483,554,762,799,104.00       1,051,882.00   \n",
       "33,601,001,754.00 7,349,883,260,786,089,984.00        1,137,166.00   \n",
       "33,601,002,511.00 7,349,883,263,388,680,192.00           99,643.00   \n",
       "33,601,007,832.00 13,042,425,972,781,099,008.00       3,740,728.00   \n",
       "33,601,008,617.00 7,277,825,655,840,339,968.00        2,751,029.00   \n",
       "\n",
       "                                                 Email DL (Bytes)  \\\n",
       "MSISDN/Number     Bearer Id                                         \n",
       "33,601,001,722.00 13,114,483,554,762,799,104.00        837,400.00   \n",
       "33,601,001,754.00 7,349,883,260,786,089,984.00       2,828,821.00   \n",
       "33,601,002,511.00 7,349,883,263,388,680,192.00       2,436,500.00   \n",
       "33,601,007,832.00 13,042,425,972,781,099,008.00      2,178,618.00   \n",
       "33,601,008,617.00 7,277,825,655,840,339,968.00       1,267,949.00   \n",
       "\n",
       "                                                 Email UL (Bytes)  \\\n",
       "MSISDN/Number     Bearer Id                                         \n",
       "33,601,001,722.00 13,114,483,554,762,799,104.00        493,962.00   \n",
       "33,601,001,754.00 7,349,883,260,786,089,984.00         478,960.00   \n",
       "33,601,002,511.00 7,349,883,263,388,680,192.00         768,880.00   \n",
       "33,601,007,832.00 13,042,425,972,781,099,008.00        106,052.00   \n",
       "33,601,008,617.00 7,277,825,655,840,339,968.00         145,736.00   \n",
       "\n",
       "                                                 Youtube DL (Bytes)  \\\n",
       "MSISDN/Number     Bearer Id                                           \n",
       "33,601,001,722.00 13,114,483,554,762,799,104.00       14,900,201.00   \n",
       "33,601,001,754.00 7,349,883,260,786,089,984.00         5,324,251.00   \n",
       "33,601,002,511.00 7,349,883,263,388,680,192.00         2,137,272.00   \n",
       "33,601,007,832.00 13,042,425,972,781,099,008.00        4,393,123.00   \n",
       "33,601,008,617.00 7,277,825,655,840,339,968.00         2,312,338.00   \n",
       "\n",
       "                                                 Youtube UL (Bytes)  \\\n",
       "MSISDN/Number     Bearer Id                                           \n",
       "33,601,001,722.00 13,114,483,554,762,799,104.00        6,724,347.00   \n",
       "33,601,001,754.00 7,349,883,260,786,089,984.00         7,107,972.00   \n",
       "33,601,002,511.00 7,349,883,263,388,680,192.00        19,196,298.00   \n",
       "33,601,007,832.00 13,042,425,972,781,099,008.00        2,584,198.00   \n",
       "33,601,008,617.00 7,277,825,655,840,339,968.00        18,180,144.00   \n",
       "\n",
       "                                                 Netflix DL (Bytes)  \\\n",
       "MSISDN/Number     Bearer Id                                           \n",
       "33,601,001,722.00 13,114,483,554,762,799,104.00       10,265,105.00   \n",
       "33,601,001,754.00 7,349,883,260,786,089,984.00           770,569.00   \n",
       "33,601,002,511.00 7,349,883,263,388,680,192.00        16,525,919.00   \n",
       "33,601,007,832.00 13,042,425,972,781,099,008.00        1,157,362.00   \n",
       "33,601,008,617.00 7,277,825,655,840,339,968.00         3,794,492.00   \n",
       "\n",
       "                                                 Netflix UL (Bytes)  \\\n",
       "MSISDN/Number     Bearer Id                                           \n",
       "33,601,001,722.00 13,114,483,554,762,799,104.00       16,915,876.00   \n",
       "33,601,001,754.00 7,349,883,260,786,089,984.00        10,451,194.00   \n",
       "33,601,002,511.00 7,349,883,263,388,680,192.00         2,827,981.00   \n",
       "33,601,007,832.00 13,042,425,972,781,099,008.00          784,730.00   \n",
       "33,601,008,617.00 7,277,825,655,840,339,968.00        18,178,618.00   \n",
       "\n",
       "                                                 Gaming DL (Bytes)  \\\n",
       "MSISDN/Number     Bearer Id                                          \n",
       "33,601,001,722.00 13,114,483,554,762,799,104.00     811,091,133.00   \n",
       "33,601,001,754.00 7,349,883,260,786,089,984.00      105,035,298.00   \n",
       "33,601,002,511.00 7,349,883,263,388,680,192.00      529,068,485.00   \n",
       "33,601,007,832.00 13,042,425,972,781,099,008.00     388,074,835.00   \n",
       "33,601,008,617.00 7,277,825,655,840,339,968.00      799,737,769.00   \n",
       "\n",
       "                                                 Gaming UL (Bytes)  \\\n",
       "MSISDN/Number     Bearer Id                                          \n",
       "33,601,001,722.00 13,114,483,554,762,799,104.00       1,367,528.00   \n",
       "33,601,001,754.00 7,349,883,260,786,089,984.00       14,714,780.00   \n",
       "33,601,002,511.00 7,349,883,263,388,680,192.00        9,759,228.00   \n",
       "33,601,007,832.00 13,042,425,972,781,099,008.00       3,051,292.00   \n",
       "33,601,008,617.00 7,277,825,655,840,339,968.00        2,827,420.00   \n",
       "\n",
       "                                                 Other DL (Bytes)  \\\n",
       "MSISDN/Number     Bearer Id                                         \n",
       "33,601,001,722.00 13,114,483,554,762,799,104.00    377,096,990.00   \n",
       "33,601,001,754.00 7,349,883,260,786,089,984.00     279,557,701.00   \n",
       "33,601,002,511.00 7,349,883,263,388,680,192.00     495,086,501.00   \n",
       "33,601,007,832.00 13,042,425,972,781,099,008.00     25,248,001.00   \n",
       "33,601,008,617.00 7,277,825,655,840,339,968.00      72,295,238.00   \n",
       "\n",
       "                                                 Other UL (Bytes)  \n",
       "MSISDN/Number     Bearer Id                                        \n",
       "33,601,001,722.00 13,114,483,554,762,799,104.00      9,473,882.00  \n",
       "33,601,001,754.00 7,349,883,260,786,089,984.00       2,152,370.00  \n",
       "33,601,002,511.00 7,349,883,263,388,680,192.00       6,607,171.00  \n",
       "33,601,007,832.00 13,042,425,972,781,099,008.00     10,031,701.00  \n",
       "33,601,008,617.00 7,277,825,655,840,339,968.00      13,693,422.00  "
      ]
     },
     "execution_count": 41,
     "metadata": {},
     "output_type": "execute_result"
    }
   ],
   "source": [
    "data_per_application = df_clean.groupby(['MSISDN/Number','Bearer Id'])[['Social Media DL (Bytes)',\n",
    "       'Social Media UL (Bytes)', 'Google DL (Bytes)', 'Google UL (Bytes)',\n",
    "       'Email DL (Bytes)', 'Email UL (Bytes)', 'Youtube DL (Bytes)',\n",
    "       'Youtube UL (Bytes)', 'Netflix DL (Bytes)', 'Netflix UL (Bytes)',\n",
    "       'Gaming DL (Bytes)', 'Gaming UL (Bytes)', 'Other DL (Bytes)',\n",
    "       'Other UL (Bytes)']].sum()\n",
    "\n",
    "data_per_application.head(5)"
   ]
  },
  {
   "cell_type": "markdown",
   "metadata": {},
   "source": [
    "# Ploting"
   ]
  },
  {
   "cell_type": "code",
   "execution_count": 42,
   "metadata": {},
   "outputs": [
    {
     "data": {
      "text/plain": [
       "Index(['Bearer Id', 'Start', 'Start ms', 'End', 'End ms', 'Dur. (ms)', 'IMSI',\n",
       "       'MSISDN/Number', 'IMEI', 'Last Location Name',\n",
       "       'Avg Bearer TP DL (kbps)', 'Avg Bearer TP UL (kbps)',\n",
       "       'DL TP < 50 Kbps (%)', '50 Kbps < DL TP < 250 Kbps (%)',\n",
       "       '250 Kbps < DL TP < 1 Mbps (%)', 'DL TP > 1 Mbps (%)',\n",
       "       'UL TP < 10 Kbps (%)', '10 Kbps < UL TP < 50 Kbps (%)',\n",
       "       '50 Kbps < UL TP < 300 Kbps (%)', 'UL TP > 300 Kbps (%)',\n",
       "       'Activity Duration DL (ms)', 'Activity Duration UL (ms)', 'Dur. (ms).1',\n",
       "       'Handset Manufacturer', 'Handset Type', 'Nb of sec with Vol DL < 6250B',\n",
       "       'Nb of sec with Vol UL < 1250B', 'Social Media DL (Bytes)',\n",
       "       'Social Media UL (Bytes)', 'Google DL (Bytes)', 'Google UL (Bytes)',\n",
       "       'Email DL (Bytes)', 'Email UL (Bytes)', 'Youtube DL (Bytes)',\n",
       "       'Youtube UL (Bytes)', 'Netflix DL (Bytes)', 'Netflix UL (Bytes)',\n",
       "       'Gaming DL (Bytes)', 'Gaming UL (Bytes)', 'Other DL (Bytes)',\n",
       "       'Other UL (Bytes)', 'Total UL (Bytes)', 'Total DL (Bytes)'],\n",
       "      dtype='object')"
      ]
     },
     "execution_count": 42,
     "metadata": {},
     "output_type": "execute_result"
    }
   ],
   "source": [
    "df_clean.columns"
   ]
  },
  {
   "cell_type": "code",
   "execution_count": 43,
   "metadata": {},
   "outputs": [
    {
     "data": {
      "image/png": "[encoded data removed]",
      "text/plain": [
       "<Figure size 1008x504 with 1 Axes>"
      ]
     },
     "metadata": {
      "needs_background": "light"
     },
     "output_type": "display_data"
    }
   ],
   "source": [
    "pltf.plot_hist(df_clean, 'Total UL (Bytes)', 'red',\"totalUL.jpg\")\n",
    "#plt.savefig(\"totalUL.jpg\")"
   ]
  },
  {
   "cell_type": "code",
   "execution_count": 44,
   "metadata": {},
   "outputs": [
    {
     "data": {
      "image/png": "[encoded data removed]",
      "text/plain": [
       "<Figure size 1008x504 with 1 Axes>"
      ]
     },
     "metadata": {
      "needs_background": "light"
     },
     "output_type": "display_data"
    }
   ],
   "source": [
    "pltf.plot_hist(df_clean, 'Total DL (Bytes)', 'blue',\"totalDL.jpg\")\n",
    "#plt.savefig(\"totalDL.jpg\")"
   ]
  },
  {
   "cell_type": "code",
   "execution_count": 46,
   "metadata": {},
   "outputs": [
    {
     "data": {
      "text/plain": [
       "Timestamp('2019-04-04 12:01:00')"
      ]
     },
     "execution_count": 46,
     "metadata": {},
     "output_type": "execute_result"
    }
   ],
   "source": [
    "df_clean['Start'].min()"
   ]
  },
  {
   "cell_type": "code",
   "execution_count": 47,
   "metadata": {},
   "outputs": [
    {
     "data": {
      "text/plain": [
       "Timestamp('2019-04-29 07:28:00')"
      ]
     },
     "execution_count": 47,
     "metadata": {},
     "output_type": "execute_result"
    }
   ],
   "source": [
    "df_clean['Start'].max()"
   ]
  },
  {
   "cell_type": "code",
   "execution_count": null,
   "metadata": {},
   "outputs": [],
   "source": []
  }
 ],
 "metadata": {
  "kernelspec": {
   "display_name": "Python 3",
   "language": "python",
   "name": "python3"
  },
  "language_info": {
   "codemirror_mode": {
    "name": "ipython",
    "version": 3
   },
   "file_extension": ".py",
   "mimetype": "text/x-python",
   "name": "python",
   "nbconvert_exporter": "python",
   "pygments_lexer": "ipython3",
   "version": "3.8.5"
  }
 },
 "nbformat": 4,
 "nbformat_minor": 5
}
